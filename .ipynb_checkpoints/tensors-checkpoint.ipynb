{
 "cells": [
  {
   "cell_type": "code",
   "execution_count": 3,
   "metadata": {},
   "outputs": [
    {
     "name": "stdout",
     "output_type": "stream",
     "text": [
      "1.7.1\n"
     ]
    }
   ],
   "source": [
    "import torch\n",
    "import pandas as pd\n",
    "import numpy as np\n",
    "import matplotlib.pyplot as plt\n",
    "print(torch.__version__)"
   ]
  },
  {
   "cell_type": "code",
   "execution_count": 5,
   "metadata": {},
   "outputs": [
    {
     "data": {
      "text/plain": [
       "tensor(7)"
      ]
     },
     "execution_count": 5,
     "metadata": {},
     "output_type": "execute_result"
    }
   ],
   "source": [
    "#scalars\n",
    "scalar = torch.tensor(7)\n",
    "scalar"
   ]
  },
  {
   "cell_type": "code",
   "execution_count": 6,
   "metadata": {},
   "outputs": [
    {
     "data": {
      "text/plain": [
       "0"
      ]
     },
     "execution_count": 6,
     "metadata": {},
     "output_type": "execute_result"
    }
   ],
   "source": [
    "scalar.ndim"
   ]
  },
  {
   "cell_type": "code",
   "execution_count": 8,
   "metadata": {},
   "outputs": [
    {
     "data": {
      "text/plain": [
       "7"
      ]
     },
     "execution_count": 8,
     "metadata": {},
     "output_type": "execute_result"
    }
   ],
   "source": [
    "# get tensor back as python int\n",
    "scalar.item()"
   ]
  },
  {
   "cell_type": "code",
   "execution_count": 21,
   "metadata": {},
   "outputs": [
    {
     "data": {
      "text/plain": [
       "1"
      ]
     },
     "execution_count": 21,
     "metadata": {},
     "output_type": "execute_result"
    }
   ],
   "source": [
    "#vector: 대괄호 개수가 차원 개수\n",
    "vector = torch.tensor([8,9,10])\n",
    "vector.ndim"
   ]
  },
  {
   "cell_type": "code",
   "execution_count": 22,
   "metadata": {},
   "outputs": [
    {
     "data": {
      "text/plain": [
       "torch.Size([3])"
      ]
     },
     "execution_count": 22,
     "metadata": {},
     "output_type": "execute_result"
    }
   ],
   "source": [
    "vector.shape"
   ]
  },
  {
   "cell_type": "code",
   "execution_count": 23,
   "metadata": {},
   "outputs": [],
   "source": [
    "#MATRIX\n",
    "MATRIX = torch.tensor([[7,8],\n",
    "                       [9,10],\n",
    "                       [11,12]])"
   ]
  },
  {
   "cell_type": "code",
   "execution_count": 26,
   "metadata": {},
   "outputs": [
    {
     "data": {
      "text/plain": [
       "torch.Size([3, 2])"
      ]
     },
     "execution_count": 26,
     "metadata": {},
     "output_type": "execute_result"
    }
   ],
   "source": [
    "MATRIX.shape"
   ]
  },
  {
   "cell_type": "code",
   "execution_count": 31,
   "metadata": {},
   "outputs": [],
   "source": [
    "# tensor\n",
    "\n",
    "TENSOR = torch.tensor([[[1,2,3],\n",
    "                       [4,5,6],\n",
    "                       [7,8,9]],\n",
    "                       [[4,5,6],\n",
    "                       [7,8,9],\n",
    "                       [1,22,3]]])\n"
   ]
  },
  {
   "cell_type": "code",
   "execution_count": 32,
   "metadata": {},
   "outputs": [
    {
     "data": {
      "text/plain": [
       "3"
      ]
     },
     "execution_count": 32,
     "metadata": {},
     "output_type": "execute_result"
    }
   ],
   "source": [
    "TENSOR.ndim"
   ]
  },
  {
   "cell_type": "code",
   "execution_count": 33,
   "metadata": {},
   "outputs": [
    {
     "data": {
      "text/plain": [
       "torch.Size([2, 3, 3])"
      ]
     },
     "execution_count": 33,
     "metadata": {},
     "output_type": "execute_result"
    }
   ],
   "source": [
    "TENSOR.shape"
   ]
  },
  {
   "cell_type": "code",
   "execution_count": 39,
   "metadata": {},
   "outputs": [
    {
     "data": {
      "text/plain": [
       "6"
      ]
     },
     "execution_count": 39,
     "metadata": {},
     "output_type": "execute_result"
    }
   ],
   "source": [
    "TENSOR[1][0][2].item()"
   ]
  },
  {
   "cell_type": "code",
   "execution_count": 46,
   "metadata": {},
   "outputs": [
    {
     "data": {
      "text/plain": [
       "tensor([[[[0.2091, 0.1626, 0.2176, 0.3575],\n",
       "          [0.1661, 0.1013, 0.6021, 0.4710],\n",
       "          [0.3593, 0.1146, 0.3514, 0.3228]],\n",
       "\n",
       "         [[0.8478, 0.6942, 0.6681, 0.7121],\n",
       "          [0.6262, 0.1756, 0.3655, 0.9407],\n",
       "          [0.1532, 0.0644, 0.2362, 0.5798]],\n",
       "\n",
       "         [[0.0094, 0.7748, 0.0535, 0.0065],\n",
       "          [0.5083, 0.6648, 0.5379, 0.7304],\n",
       "          [0.3414, 0.9600, 0.0693, 0.3321]],\n",
       "\n",
       "         ...,\n",
       "\n",
       "         [[0.6555, 0.8036, 0.5105, 0.4623],\n",
       "          [0.0988, 0.3731, 0.8826, 0.6896],\n",
       "          [0.0728, 0.1919, 0.3324, 0.0723]],\n",
       "\n",
       "         [[0.5055, 0.9997, 0.1096, 0.4193],\n",
       "          [0.0966, 0.6186, 0.0647, 0.3887],\n",
       "          [0.7399, 0.7244, 0.4699, 0.9826]],\n",
       "\n",
       "         [[0.7200, 0.8734, 0.6539, 0.7230],\n",
       "          [0.3550, 0.9410, 0.7373, 0.8484],\n",
       "          [0.9596, 0.0375, 0.9051, 0.1579]]],\n",
       "\n",
       "\n",
       "        [[[0.8459, 0.1699, 0.7718, 0.6602],\n",
       "          [0.6716, 0.0987, 0.4244, 0.2514],\n",
       "          [0.5120, 0.7908, 0.6830, 0.5770]],\n",
       "\n",
       "         [[0.3662, 0.7111, 0.2727, 0.5963],\n",
       "          [0.2781, 0.1258, 0.2921, 0.5530],\n",
       "          [0.3676, 0.4099, 0.3285, 0.9973]],\n",
       "\n",
       "         [[0.9272, 0.2162, 0.2456, 0.1968],\n",
       "          [0.1396, 0.9729, 0.9499, 0.9123],\n",
       "          [0.2204, 0.3469, 0.0658, 0.5494]],\n",
       "\n",
       "         ...,\n",
       "\n",
       "         [[0.8278, 0.5909, 0.5795, 0.1366],\n",
       "          [0.9787, 0.2693, 0.9596, 0.5541],\n",
       "          [0.0855, 0.7174, 0.3812, 0.2460]],\n",
       "\n",
       "         [[0.2582, 0.9396, 0.9119, 0.8310],\n",
       "          [0.7318, 0.9501, 0.9385, 0.2374],\n",
       "          [0.3381, 0.3224, 0.1387, 0.8936]],\n",
       "\n",
       "         [[0.7801, 0.8379, 0.3427, 0.5695],\n",
       "          [0.7712, 0.3536, 0.3178, 0.2161],\n",
       "          [0.0482, 0.1659, 0.9075, 0.3459]]],\n",
       "\n",
       "\n",
       "        [[[0.4590, 0.7534, 0.5839, 0.7453],\n",
       "          [0.4299, 0.6354, 0.1551, 0.7849],\n",
       "          [0.1279, 0.1868, 0.9801, 0.4177]],\n",
       "\n",
       "         [[0.7030, 0.9771, 0.3059, 0.4800],\n",
       "          [0.7042, 0.3872, 0.8843, 0.4959],\n",
       "          [0.5535, 0.0663, 0.9024, 0.3417]],\n",
       "\n",
       "         [[0.1384, 0.8954, 0.9399, 0.2888],\n",
       "          [0.8203, 0.9595, 0.3901, 0.3018],\n",
       "          [0.1664, 0.2401, 0.6499, 0.0651]],\n",
       "\n",
       "         ...,\n",
       "\n",
       "         [[0.1729, 0.7841, 0.8200, 0.9748],\n",
       "          [0.0655, 0.9255, 0.4024, 0.1310],\n",
       "          [0.9638, 0.5655, 0.4951, 0.6307]],\n",
       "\n",
       "         [[0.7380, 0.2731, 0.3018, 0.9527],\n",
       "          [0.4843, 0.1717, 0.8804, 0.9784],\n",
       "          [0.8238, 0.5925, 0.8084, 0.7286]],\n",
       "\n",
       "         [[0.5967, 0.4393, 0.1951, 0.5471],\n",
       "          [0.9207, 0.1758, 0.0058, 0.8755],\n",
       "          [0.3413, 0.3219, 0.3580, 0.1572]]],\n",
       "\n",
       "\n",
       "        ...,\n",
       "\n",
       "\n",
       "        [[[0.7944, 0.5337, 0.1023, 0.4414],\n",
       "          [0.8941, 0.2708, 0.9163, 0.0099],\n",
       "          [0.7003, 0.0162, 0.0714, 0.6650]],\n",
       "\n",
       "         [[0.7710, 0.6198, 0.8734, 0.2126],\n",
       "          [0.3796, 0.8497, 0.9569, 0.5328],\n",
       "          [0.6663, 0.2087, 0.2187, 0.9452]],\n",
       "\n",
       "         [[0.2055, 0.9280, 0.5700, 0.1192],\n",
       "          [0.6478, 0.5133, 0.9774, 0.2372],\n",
       "          [0.9493, 0.8894, 0.5187, 0.6139]],\n",
       "\n",
       "         ...,\n",
       "\n",
       "         [[0.5973, 0.8425, 0.5491, 0.0459],\n",
       "          [0.6311, 0.0789, 0.8431, 0.4860],\n",
       "          [0.9627, 0.4844, 0.7313, 0.5010]],\n",
       "\n",
       "         [[0.4743, 0.2370, 0.9291, 0.7205],\n",
       "          [0.3129, 0.6022, 0.0843, 0.5607],\n",
       "          [0.0100, 0.3479, 0.8893, 0.1308]],\n",
       "\n",
       "         [[0.9762, 0.8318, 0.5464, 0.2148],\n",
       "          [0.3331, 0.2543, 0.6553, 0.6281],\n",
       "          [0.4466, 0.9515, 0.3689, 0.8627]]],\n",
       "\n",
       "\n",
       "        [[[0.9492, 0.3997, 0.4804, 0.9263],\n",
       "          [0.2526, 0.8007, 0.3110, 0.5953],\n",
       "          [0.4058, 0.6783, 0.1647, 0.2326]],\n",
       "\n",
       "         [[0.2977, 0.3762, 0.4562, 0.3644],\n",
       "          [0.9057, 0.3039, 0.0200, 0.9765],\n",
       "          [0.3645, 0.7523, 0.4266, 0.2055]],\n",
       "\n",
       "         [[0.0816, 0.4869, 0.2205, 0.2325],\n",
       "          [0.9406, 0.5700, 0.2867, 0.2940],\n",
       "          [0.6728, 0.8987, 0.4748, 0.4842]],\n",
       "\n",
       "         ...,\n",
       "\n",
       "         [[0.3310, 0.7783, 0.3012, 0.5793],\n",
       "          [0.2707, 0.5190, 0.1432, 0.6066],\n",
       "          [0.9334, 0.2831, 0.3906, 0.6843]],\n",
       "\n",
       "         [[0.0800, 0.2165, 0.4829, 0.5646],\n",
       "          [0.2642, 0.5885, 0.1123, 0.4199],\n",
       "          [0.6428, 0.3587, 0.7351, 0.8593]],\n",
       "\n",
       "         [[0.5839, 0.4049, 0.2645, 0.8968],\n",
       "          [0.9057, 0.0736, 0.1665, 0.4275],\n",
       "          [0.1247, 0.9812, 0.8071, 0.4911]]],\n",
       "\n",
       "\n",
       "        [[[0.2966, 0.1860, 0.4487, 0.7437],\n",
       "          [0.9400, 0.9892, 0.0558, 0.8050],\n",
       "          [0.1256, 0.5596, 0.1415, 0.7951]],\n",
       "\n",
       "         [[0.7576, 0.4229, 0.1623, 0.7700],\n",
       "          [0.4761, 0.0099, 0.1795, 0.9327],\n",
       "          [0.4120, 0.0493, 0.7327, 0.4641]],\n",
       "\n",
       "         [[0.1294, 0.7510, 0.0683, 0.0741],\n",
       "          [0.6861, 0.8137, 0.8783, 0.4116],\n",
       "          [0.0554, 0.0720, 0.1724, 0.3679]],\n",
       "\n",
       "         ...,\n",
       "\n",
       "         [[0.8850, 0.3101, 0.6914, 0.0647],\n",
       "          [0.0839, 0.1360, 0.2978, 0.4249],\n",
       "          [0.5461, 0.3080, 0.5303, 0.4252]],\n",
       "\n",
       "         [[0.3365, 0.4447, 0.5092, 0.2392],\n",
       "          [0.0246, 0.7571, 0.6818, 0.3024],\n",
       "          [0.9945, 0.8382, 0.2114, 0.4266]],\n",
       "\n",
       "         [[0.6175, 0.5725, 0.2614, 0.9079],\n",
       "          [0.9820, 0.8657, 0.2100, 0.7875],\n",
       "          [0.4183, 0.2779, 0.8195, 0.2084]]]])"
      ]
     },
     "execution_count": 46,
     "metadata": {},
     "output_type": "execute_result"
    }
   ],
   "source": [
    "### random tensors\n",
    "\n",
    "# why random tensors?\n",
    "\n",
    "# random tensors are important because the way many neural networks learn is\n",
    "# they start with tensors full of random numbers and then adjust those random numbers\n",
    "# to better represent the data.\n",
    "\n",
    "# start with random num-> look at data -> update random numbers->...\n",
    "\n",
    "\n",
    "random_tensor = torch.rand(10,10,3,4)\n",
    "\n",
    "random_tensor"
   ]
  },
  {
   "cell_type": "code",
   "execution_count": 47,
   "metadata": {},
   "outputs": [
    {
     "data": {
      "text/plain": [
       "4"
      ]
     },
     "execution_count": 47,
     "metadata": {},
     "output_type": "execute_result"
    }
   ],
   "source": [
    "random_tensor.ndim"
   ]
  },
  {
   "cell_type": "code",
   "execution_count": 99,
   "metadata": {},
   "outputs": [],
   "source": [
    "random_image_size_tensor = torch.rand(size=(3,5,3))"
   ]
  },
  {
   "cell_type": "code",
   "execution_count": 100,
   "metadata": {},
   "outputs": [
    {
     "data": {
      "text/plain": [
       "(torch.Size([3, 5, 3]), 3)"
      ]
     },
     "execution_count": 100,
     "metadata": {},
     "output_type": "execute_result"
    }
   ],
   "source": [
    "random_image_size_tensor.shape, random_image_size_tensor.ndim"
   ]
  },
  {
   "cell_type": "code",
   "execution_count": 101,
   "metadata": {},
   "outputs": [
    {
     "data": {
      "image/png": "[encoded data removed]",
      "text/plain": [
       "<Figure size 432x288 with 1 Axes>"
      ]
     },
     "metadata": {
      "needs_background": "light"
     },
     "output_type": "display_data"
    }
   ],
   "source": [
    "plt.imshow(random_image_size_tensor)\n",
    "plt.show()"
   ]
  },
  {
   "cell_type": "code",
   "execution_count": 102,
   "metadata": {},
   "outputs": [],
   "source": [
    "# zeros and ones\n",
    "\n",
    "zero = torch.zeros(size=(3,4))"
   ]
  },
  {
   "cell_type": "code",
   "execution_count": 104,
   "metadata": {},
   "outputs": [
    {
     "data": {
      "text/plain": [
       "tensor([[[[0., 0., 0., 0.],\n",
       "          [0., 0., 0., 0.],\n",
       "          [0., 0., 0., 0.]],\n",
       "\n",
       "         [[0., 0., 0., 0.],\n",
       "          [0., 0., 0., 0.],\n",
       "          [0., 0., 0., 0.]],\n",
       "\n",
       "         [[0., 0., 0., 0.],\n",
       "          [0., 0., 0., 0.],\n",
       "          [0., 0., 0., 0.]],\n",
       "\n",
       "         ...,\n",
       "\n",
       "         [[0., 0., 0., 0.],\n",
       "          [0., 0., 0., 0.],\n",
       "          [0., 0., 0., 0.]],\n",
       "\n",
       "         [[0., 0., 0., 0.],\n",
       "          [0., 0., 0., 0.],\n",
       "          [0., 0., 0., 0.]],\n",
       "\n",
       "         [[0., 0., 0., 0.],\n",
       "          [0., 0., 0., 0.],\n",
       "          [0., 0., 0., 0.]]],\n",
       "\n",
       "\n",
       "        [[[0., 0., 0., 0.],\n",
       "          [0., 0., 0., 0.],\n",
       "          [0., 0., 0., 0.]],\n",
       "\n",
       "         [[0., 0., 0., 0.],\n",
       "          [0., 0., 0., 0.],\n",
       "          [0., 0., 0., 0.]],\n",
       "\n",
       "         [[0., 0., 0., 0.],\n",
       "          [0., 0., 0., 0.],\n",
       "          [0., 0., 0., 0.]],\n",
       "\n",
       "         ...,\n",
       "\n",
       "         [[0., 0., 0., 0.],\n",
       "          [0., 0., 0., 0.],\n",
       "          [0., 0., 0., 0.]],\n",
       "\n",
       "         [[0., 0., 0., 0.],\n",
       "          [0., 0., 0., 0.],\n",
       "          [0., 0., 0., 0.]],\n",
       "\n",
       "         [[0., 0., 0., 0.],\n",
       "          [0., 0., 0., 0.],\n",
       "          [0., 0., 0., 0.]]],\n",
       "\n",
       "\n",
       "        [[[0., 0., 0., 0.],\n",
       "          [0., 0., 0., 0.],\n",
       "          [0., 0., 0., 0.]],\n",
       "\n",
       "         [[0., 0., 0., 0.],\n",
       "          [0., 0., 0., 0.],\n",
       "          [0., 0., 0., 0.]],\n",
       "\n",
       "         [[0., 0., 0., 0.],\n",
       "          [0., 0., 0., 0.],\n",
       "          [0., 0., 0., 0.]],\n",
       "\n",
       "         ...,\n",
       "\n",
       "         [[0., 0., 0., 0.],\n",
       "          [0., 0., 0., 0.],\n",
       "          [0., 0., 0., 0.]],\n",
       "\n",
       "         [[0., 0., 0., 0.],\n",
       "          [0., 0., 0., 0.],\n",
       "          [0., 0., 0., 0.]],\n",
       "\n",
       "         [[0., 0., 0., 0.],\n",
       "          [0., 0., 0., 0.],\n",
       "          [0., 0., 0., 0.]]],\n",
       "\n",
       "\n",
       "        ...,\n",
       "\n",
       "\n",
       "        [[[0., 0., 0., 0.],\n",
       "          [0., 0., 0., 0.],\n",
       "          [0., 0., 0., 0.]],\n",
       "\n",
       "         [[0., 0., 0., 0.],\n",
       "          [0., 0., 0., 0.],\n",
       "          [0., 0., 0., 0.]],\n",
       "\n",
       "         [[0., 0., 0., 0.],\n",
       "          [0., 0., 0., 0.],\n",
       "          [0., 0., 0., 0.]],\n",
       "\n",
       "         ...,\n",
       "\n",
       "         [[0., 0., 0., 0.],\n",
       "          [0., 0., 0., 0.],\n",
       "          [0., 0., 0., 0.]],\n",
       "\n",
       "         [[0., 0., 0., 0.],\n",
       "          [0., 0., 0., 0.],\n",
       "          [0., 0., 0., 0.]],\n",
       "\n",
       "         [[0., 0., 0., 0.],\n",
       "          [0., 0., 0., 0.],\n",
       "          [0., 0., 0., 0.]]],\n",
       "\n",
       "\n",
       "        [[[0., 0., 0., 0.],\n",
       "          [0., 0., 0., 0.],\n",
       "          [0., 0., 0., 0.]],\n",
       "\n",
       "         [[0., 0., 0., 0.],\n",
       "          [0., 0., 0., 0.],\n",
       "          [0., 0., 0., 0.]],\n",
       "\n",
       "         [[0., 0., 0., 0.],\n",
       "          [0., 0., 0., 0.],\n",
       "          [0., 0., 0., 0.]],\n",
       "\n",
       "         ...,\n",
       "\n",
       "         [[0., 0., 0., 0.],\n",
       "          [0., 0., 0., 0.],\n",
       "          [0., 0., 0., 0.]],\n",
       "\n",
       "         [[0., 0., 0., 0.],\n",
       "          [0., 0., 0., 0.],\n",
       "          [0., 0., 0., 0.]],\n",
       "\n",
       "         [[0., 0., 0., 0.],\n",
       "          [0., 0., 0., 0.],\n",
       "          [0., 0., 0., 0.]]],\n",
       "\n",
       "\n",
       "        [[[0., 0., 0., 0.],\n",
       "          [0., 0., 0., 0.],\n",
       "          [0., 0., 0., 0.]],\n",
       "\n",
       "         [[0., 0., 0., 0.],\n",
       "          [0., 0., 0., 0.],\n",
       "          [0., 0., 0., 0.]],\n",
       "\n",
       "         [[0., 0., 0., 0.],\n",
       "          [0., 0., 0., 0.],\n",
       "          [0., 0., 0., 0.]],\n",
       "\n",
       "         ...,\n",
       "\n",
       "         [[0., 0., 0., 0.],\n",
       "          [0., 0., 0., 0.],\n",
       "          [0., 0., 0., 0.]],\n",
       "\n",
       "         [[0., 0., 0., 0.],\n",
       "          [0., 0., 0., 0.],\n",
       "          [0., 0., 0., 0.]],\n",
       "\n",
       "         [[0., 0., 0., 0.],\n",
       "          [0., 0., 0., 0.],\n",
       "          [0., 0., 0., 0.]]]])"
      ]
     },
     "execution_count": 104,
     "metadata": {},
     "output_type": "execute_result"
    }
   ],
   "source": [
    "zero*random_tensor"
   ]
  },
  {
   "cell_type": "code",
   "execution_count": 105,
   "metadata": {},
   "outputs": [],
   "source": [
    "ones = torch.ones(3,4)"
   ]
  },
  {
   "cell_type": "code",
   "execution_count": 108,
   "metadata": {},
   "outputs": [
    {
     "data": {
      "text/plain": [
       "torch.float32"
      ]
     },
     "execution_count": 108,
     "metadata": {},
     "output_type": "execute_result"
    }
   ],
   "source": [
    "random_tensor.dtype"
   ]
  },
  {
   "cell_type": "code",
   "execution_count": 110,
   "metadata": {},
   "outputs": [
    {
     "data": {
      "text/plain": [
       "torch.Size([10, 10, 3, 4])"
      ]
     },
     "execution_count": 110,
     "metadata": {},
     "output_type": "execute_result"
    }
   ],
   "source": [
    "(ones* random_tensor).shape"
   ]
  },
  {
   "cell_type": "code",
   "execution_count": 116,
   "metadata": {},
   "outputs": [
    {
     "data": {
      "text/plain": [
       "tensor([1, 2, 3, 4, 5, 6, 7, 8, 9])"
      ]
     },
     "execution_count": 116,
     "metadata": {},
     "output_type": "execute_result"
    }
   ],
   "source": [
    "one_to_ten = torch.arange(start = 1,end = 10,step=1)\n",
    "one_to_ten"
   ]
  },
  {
   "cell_type": "code",
   "execution_count": 117,
   "metadata": {},
   "outputs": [
    {
     "data": {
      "text/plain": [
       "tensor([0, 0, 0, 0, 0, 0, 0, 0, 0])"
      ]
     },
     "execution_count": 117,
     "metadata": {},
     "output_type": "execute_result"
    }
   ],
   "source": [
    "ten_zeros = torch.zeros_like(input = one_to_ten)\n",
    "ten_zeros"
   ]
  },
  {
   "cell_type": "code",
   "execution_count": null,
   "metadata": {},
   "outputs": [],
   "source": []
  }
 ],
 "metadata": {
  "kernelspec": {
   "display_name": "Python 3",
   "language": "python",
   "name": "python3"
  },
  "language_info": {
   "codemirror_mode": {
    "name": "ipython",
    "version": 3
   },
   "file_extension": ".py",
   "mimetype": "text/x-python",
   "name": "python",
   "nbconvert_exporter": "python",
   "pygments_lexer": "ipython3",
   "version": "3.6.9"
  }
 },
 "nbformat": 4,
 "nbformat_minor": 4
}
