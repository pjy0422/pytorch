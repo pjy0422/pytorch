{
  "cells": [
    {
      "cell_type": "markdown",
      "metadata": {
        "colab_type": "text",
        "id": "view-in-github"
      },
      "source": [
        "<a href=\"https://colab.research.google.com/github/mrdbourke/pytorch-deep-learning/blob/main/extras/exercises/04_pytorch_custom_datasets_exercises.ipynb\" target=\"_parent\"><img src=\"https://colab.research.google.com/assets/colab-badge.svg\" alt=\"Open In Colab\"/></a>"
      ]
    },
    {
      "cell_type": "markdown",
      "metadata": {
        "id": "Vex99np2wFVt"
      },
      "source": [
        "# 04. PyTorch Custom Datasets Exercises Template\n",
        "\n",
        "Welcome to the 04. PyTorch Custom Datasets exercise template.\n",
        "\n",
        "The best way to practice PyTorch code is to write more PyTorch code.\n",
        "\n",
        "So read the original notebook and try to complete the exercises by writing code where it's required.\n",
        "\n",
        "Feel free to reference the original resources whenever you need but should practice writing all of the code yourself.\n",
        "\n",
        "## Resources\n",
        "\n",
        "1. These exercises/solutions are based on [notebook 04 of the Learn PyTorch for Deep Learning course](https://www.learnpytorch.io/04_pytorch_custom_datasets/).\n",
        "2. See a live [walkthrough of the solutions (errors and all) on YouTube](https://youtu.be/vsFMF9wqWx0).\n",
        "3. See [other solutions on the course GitHub](https://github.com/mrdbourke/pytorch-deep-learning/tree/main/extras/solutions)."
      ]
    },
    {
      "cell_type": "code",
      "execution_count": 1,
      "metadata": {
        "colab": {
          "base_uri": "https://localhost:8080/"
        },
        "collapsed": true,
        "id": "GaeYzOTLwWh2",
        "outputId": "14673108-7705-4e73-b7bc-d94bf9c96423"
      },
      "outputs": [
        {
          "name": "stdout",
          "output_type": "stream",
          "text": [
            "Wed Mar 15 01:18:52 2023       \n",
            "+-----------------------------------------------------------------------------+\n",
            "| NVIDIA-SMI 516.94       Driver Version: 516.94       CUDA Version: 11.7     |\n",
            "|-------------------------------+----------------------+----------------------+\n",
            "| GPU  Name            TCC/WDDM | Bus-Id        Disp.A | Volatile Uncorr. ECC |\n",
            "| Fan  Temp  Perf  Pwr:Usage/Cap|         Memory-Usage | GPU-Util  Compute M. |\n",
            "|                               |                      |               MIG M. |\n",
            "|===============================+======================+======================|\n",
            "|   0  NVIDIA GeForce ... WDDM  | 00000000:01:00.0  On |                  N/A |\n",
            "|  0%   54C    P2    41W / 180W |   7839MiB /  8192MiB |      3%      Default |\n",
            "|                               |                      |                  N/A |\n",
            "+-------------------------------+----------------------+----------------------+\n",
            "                                                                               \n",
            "+-----------------------------------------------------------------------------+\n",
            "| Processes:                                                                  |\n",
            "|  GPU   GI   CI        PID   Type   Process name                  GPU Memory |\n",
            "|        ID   ID                                                   Usage      |\n",
            "|=============================================================================|\n",
            "|    0   N/A  N/A      3240    C+G   ...y\\ShellExperienceHost.exe    N/A      |\n",
            "|    0   N/A  N/A      4676    C+G   ...in7x64\\steamwebhelper.exe    N/A      |\n",
            "|    0   N/A  N/A      5124    C+G   ...\\Programs\\OP.GG\\OP.GG.exe    N/A      |\n",
            "|    0   N/A  N/A      9072    C+G   ...e\\PhoneExperienceHost.exe    N/A      |\n",
            "|    0   N/A  N/A     10652    C+G   ...2txyewy\\TextInputHost.exe    N/A      |\n",
            "|    0   N/A  N/A     12640    C+G   ...3d8bbwe\\CalculatorApp.exe    N/A      |\n",
            "|    0   N/A  N/A     13604    C+G   ...lPanel\\SystemSettings.exe    N/A      |\n",
            "|    0   N/A  N/A     14236    C+G   ...icrosoft VS Code\\Code.exe    N/A      |\n",
            "|    0   N/A  N/A     14724    C+G   ...8wekyb3d8bbwe\\Cortana.exe    N/A      |\n",
            "|    0   N/A  N/A     17716    C+G   ...5n1h2txyewy\\SearchApp.exe    N/A      |\n",
            "|    0   N/A  N/A     19284      C   ...lack\\anaconda3\\python.exe    N/A      |\n",
            "|    0   N/A  N/A     20228    C+G   ...TeraBox\\teraboxrender.exe    N/A      |\n",
            "|    0   N/A  N/A     21576    C+G   ...ge\\Application\\msedge.exe    N/A      |\n",
            "|    0   N/A  N/A     21724    C+G   ...me\\Application\\chrome.exe    N/A      |\n",
            "|    0   N/A  N/A     21972    C+G   C:\\Windows\\explorer.exe         N/A      |\n",
            "|    0   N/A  N/A     22396    C+G   ...oft OneDrive\\OneDrive.exe    N/A      |\n",
            "|    0   N/A  N/A     23264    C+G   ...5n1h2txyewy\\SearchApp.exe    N/A      |\n",
            "+-----------------------------------------------------------------------------+\n"
          ]
        }
      ],
      "source": [
        "# Check for GPU\n",
        "!nvidia-smi"
      ]
    },
    {
      "cell_type": "code",
      "execution_count": 2,
      "metadata": {
        "colab": {
          "base_uri": "https://localhost:8080/",
          "height": 53
        },
        "id": "DNwZLMbCzJLk",
        "outputId": "1a7b73e2-ec4b-41b0-b4da-c3216a8a29ac"
      },
      "outputs": [
        {
          "name": "stdout",
          "output_type": "stream",
          "text": [
            "1.13.1\n"
          ]
        },
        {
          "data": {
            "text/plain": [
              "'cuda'"
            ]
          },
          "execution_count": 2,
          "metadata": {},
          "output_type": "execute_result"
        }
      ],
      "source": [
        "# Import torch\n",
        "import torch\n",
        "from torch import nn\n",
        "\n",
        "# Exercises require PyTorch > 1.10.0\n",
        "print(torch.__version__)\n",
        "\n",
        "# Setup device agnostic code\n",
        "device = \"cuda\" if torch.cuda.is_available() else \"cpu\"\n",
        "device"
      ]
    },
    {
      "cell_type": "markdown",
      "metadata": {
        "id": "FSFX7tc1w-en"
      },
      "source": [
        "## 1. Our models are underperforming (not fitting the data well). What are 3 methods for preventing underfitting? Write them down and explain each with a sentence."
      ]
    },
    {
      "attachments": {},
      "cell_type": "markdown",
      "metadata": {},
      "source": [
        "1. Change hidden units : Insert more layers and make the model more bigger.\n",
        "2. Increase epochs : increase training time until model fits enoughly.\n",
        "3. Change the learning rate and optimizer : Optimizer can affect the model performance."
      ]
    },
    {
      "cell_type": "markdown",
      "metadata": {
        "id": "oBK-WI6YxDYa"
      },
      "source": [
        "## 2. Recreate the data loading functions we built in [sections 1, 2, 3 and 4 of notebook 04](https://www.learnpytorch.io/04_pytorch_custom_datasets/). You should have train and test `DataLoader`'s ready to use."
      ]
    },
    {
      "cell_type": "code",
      "execution_count": 17,
      "metadata": {
        "id": "MZkCPJBR3lw4"
      },
      "outputs": [],
      "source": [
        "# 1. Get data\n",
        "from pathlib import Path\n",
        "data_dir = Path('./data/pizza_steak_sushi')\n",
        "train_dir = data_dir / \"train\"\n",
        "test_dir = data_dir / \"test\""
      ]
    },
    {
      "cell_type": "code",
      "execution_count": null,
      "metadata": {},
      "outputs": [],
      "source": []
    },
    {
      "cell_type": "code",
      "execution_count": 23,
      "metadata": {
        "id": "TYmhAX7J52VX"
      },
      "outputs": [],
      "source": [
        "# 2. Become one with the data\n",
        "import os\n",
        "def walk_through_dir(dir_path):\n",
        "  \"\"\"Walks through dir_path returning file counts of its contents.\"\"\"\n",
        "  for dirpath, dirnames, filenames in os.walk(dir_path):\n",
        "    print(f\"There are {len(dirnames)} directories and {len(filenames)} images in '{dirpath}'.\")"
      ]
    },
    {
      "cell_type": "code",
      "execution_count": 24,
      "metadata": {},
      "outputs": [
        {
          "name": "stdout",
          "output_type": "stream",
          "text": [
            "There are 3 directories and 0 images in 'data\\pizza_steak_sushi\\train'.\n",
            "There are 0 directories and 78 images in 'data\\pizza_steak_sushi\\train\\pizza'.\n",
            "There are 0 directories and 75 images in 'data\\pizza_steak_sushi\\train\\steak'.\n",
            "There are 0 directories and 72 images in 'data\\pizza_steak_sushi\\train\\sushi'.\n"
          ]
        }
      ],
      "source": [
        "walk_through_dir(train_dir)"
      ]
    },
    {
      "cell_type": "code",
      "execution_count": 54,
      "metadata": {
        "id": "3A9ZmOn-7Jhh"
      },
      "outputs": [
        {
          "data": {
            "text/plain": [
              "75"
            ]
          },
          "execution_count": 54,
          "metadata": {},
          "output_type": "execute_result"
        }
      ],
      "source": [
        "# Setup train and testing paths\n",
        "train_dir = data_dir / \"train\"\n",
        "test_dir = data_dir / \"test\"\n",
        "train_image_path_list = list(train_dir.glob('**/*/*.jpg'))\n",
        "test_image_path_list = list(test_dir.glob('**/*/*.jpg'))\n",
        "len(test_image_path_list)"
      ]
    },
    {
      "cell_type": "code",
      "execution_count": 55,
      "metadata": {},
      "outputs": [],
      "source": [
        "class_names = os.listdir(train_dir)"
      ]
    },
    {
      "cell_type": "code",
      "execution_count": 56,
      "metadata": {
        "id": "51ywNKkN7WOl"
      },
      "outputs": [
        {
          "data": {
            "image/png": "[encoded data removed]",
            "text/plain": [
              "<Figure size 640x480 with 3 Axes>"
            ]
          },
          "metadata": {},
          "output_type": "display_data"
        }
      ],
      "source": [
        "# Visualize an image\n",
        "import random\n",
        "from PIL import Image\n",
        "import matplotlib.pyplot as plt\n",
        "\n",
        "random_image_list = random.choices(train_image_path_list,k=3)\n",
        "l = 3\n",
        "for i,img in enumerate(random_image_list):\n",
        "    plt.subplot(1,l,i+1)\n",
        "    par = img.parent.name\n",
        "    img = Image.open(img)\n",
        "    plt.axis(False)\n",
        "    plt.imshow(img)\n",
        "    plt.title(f\"{par}\")"
      ]
    },
    {
      "cell_type": "markdown",
      "metadata": {
        "id": "2AU4FGYC_KBz"
      },
      "source": [
        "We've got some images in our folders.\n",
        "\n",
        "Now we need to make them compatible with PyTorch by:\n",
        "1. Transform the data into tensors.\n",
        "2. Turn the tensor data into a `torch.utils.data.Dataset` and later a `torch.utils.data.DataLoader`."
      ]
    },
    {
      "cell_type": "code",
      "execution_count": 59,
      "metadata": {
        "id": "KbGMaYGT-vwq"
      },
      "outputs": [],
      "source": [
        "# 3.1 Transforming data with torchvision.transforms"
      ]
    },
    {
      "cell_type": "code",
      "execution_count": 82,
      "metadata": {
        "id": "gnvUSYYW_ohN"
      },
      "outputs": [],
      "source": [
        "# Write transform for turning images into tensors\n",
        "from torchvision import transforms\n",
        "import torchvision\n",
        "train_transform = transforms.Compose([\n",
        "\n",
        "    transforms.Resize(size = (64,64)),\n",
        "    transforms.ToTensor()\n",
        "])\n",
        "test_transform = transforms.Compose([\n",
        "\n",
        "    transforms.Resize(size = (64,64)),\n",
        "    transforms.ToTensor()\n",
        "])"
      ]
    },
    {
      "cell_type": "code",
      "execution_count": 84,
      "metadata": {
        "id": "vp8I2cpMAxcT"
      },
      "outputs": [
        {
          "data": {
            "image/png": "[encoded data removed]",
            "text/plain": [
              "<Figure size 1500x400 with 4 Axes>"
            ]
          },
          "metadata": {},
          "output_type": "display_data"
        }
      ],
      "source": [
        "# Write a function to plot transformed images\n",
        "def plot_random_images(image_list : list, k = 3):\n",
        "    if k>=10:\n",
        "        k=10\n",
        "    random_image_list = random.choices(image_list,k=k)\n",
        "    plt.figure(figsize=(15,4))\n",
        "    for i,img in enumerate(random_image_list):\n",
        "        plt.subplot(1,k,i+1)\n",
        "        par = img.parent.name\n",
        "        img = Image.open(img)\n",
        "        img = train_transform(img)\n",
        "        plt.axis(False)\n",
        "        plt.imshow(img.permute(1,2,0))\n",
        "        plt.title(f\"{par}\\n{img.shape}\")\n",
        "plot_random_images(train_image_path_list, k=4)"
      ]
    },
    {
      "cell_type": "markdown",
      "metadata": {
        "id": "FKgfqPArChVR"
      },
      "source": [
        "### Load image data using `ImageFolder`"
      ]
    },
    {
      "cell_type": "code",
      "execution_count": 86,
      "metadata": {
        "id": "8OFgwQF1CkOu"
      },
      "outputs": [],
      "source": [
        "# Use ImageFolder to create dataset(s)\n",
        "train_data = torchvision.datasets.ImageFolder(root = train_dir, transform=train_transform)\n",
        "test_data = torchvision.datasets.ImageFolder(root = test_dir, transform=test_transform)"
      ]
    },
    {
      "cell_type": "code",
      "execution_count": 87,
      "metadata": {
        "colab": {
          "base_uri": "https://localhost:8080/"
        },
        "id": "MbT0fhXHEQyJ",
        "outputId": "ad2b0da9-285c-493d-c362-a6b00e5d2197"
      },
      "outputs": [
        {
          "data": {
            "text/plain": [
              "['pizza', 'steak', 'sushi']"
            ]
          },
          "execution_count": 87,
          "metadata": {},
          "output_type": "execute_result"
        }
      ],
      "source": [
        "# Get class names as a list\n",
        "class_names = train_data.classes\n",
        "class_names"
      ]
    },
    {
      "cell_type": "code",
      "execution_count": 88,
      "metadata": {
        "colab": {
          "base_uri": "https://localhost:8080/"
        },
        "id": "uCcWk7NDEay1",
        "outputId": "88718fd6-c6b2-4132-9383-0a64a0a7bcee"
      },
      "outputs": [
        {
          "data": {
            "text/plain": [
              "{'pizza': 0, 'steak': 1, 'sushi': 2}"
            ]
          },
          "execution_count": 88,
          "metadata": {},
          "output_type": "execute_result"
        }
      ],
      "source": [
        "# Can also get class names as a dict\n",
        "class_dict = train_data.class_to_idx\n",
        "class_dict"
      ]
    },
    {
      "cell_type": "code",
      "execution_count": 89,
      "metadata": {
        "colab": {
          "base_uri": "https://localhost:8080/"
        },
        "id": "W7H7bX4HEgie",
        "outputId": "2ff1fdd2-f990-461d-c2e9-27435e7744c9"
      },
      "outputs": [
        {
          "data": {
            "text/plain": [
              "(225, 75)"
            ]
          },
          "execution_count": 89,
          "metadata": {},
          "output_type": "execute_result"
        }
      ],
      "source": [
        "# Check the lengths of each dataset\n",
        "len(train_data), len(test_data)"
      ]
    },
    {
      "cell_type": "code",
      "execution_count": 92,
      "metadata": {
        "colab": {
          "base_uri": "https://localhost:8080/"
        },
        "id": "nskNr5YCEoRl",
        "outputId": "cd825b1d-095f-4080-86ce-7d17aafef7e8"
      },
      "outputs": [],
      "source": [
        "# Turn train and test Datasets into DataLoaders\n",
        "train_dataloader = torch.utils.data.DataLoader(dataset=train_data, batch_size=32, shuffle=True)\n",
        "test_dataloader = torch.utils.data.DataLoader(dataset = test_data, batch_size = 32, shuffle = False)"
      ]
    },
    {
      "cell_type": "code",
      "execution_count": 93,
      "metadata": {
        "colab": {
          "base_uri": "https://localhost:8080/"
        },
        "id": "z8vJxmxAFqw6",
        "outputId": "e5a8bd88-1b05-4109-de5a-8183a85c7872"
      },
      "outputs": [
        {
          "data": {
            "text/plain": [
              "(8, 3)"
            ]
          },
          "execution_count": 93,
          "metadata": {},
          "output_type": "execute_result"
        }
      ],
      "source": [
        "# How many batches of images are in our data loaders?\n",
        "len(train_dataloader),len(test_dataloader)"
      ]
    },
    {
      "cell_type": "markdown",
      "metadata": {
        "id": "XeYFEqw8xK26"
      },
      "source": [
        "## 3. Recreate `model_0` we built in section 7 of notebook 04."
      ]
    },
    {
      "cell_type": "code",
      "execution_count": 129,
      "metadata": {
        "id": "MBErjcUCyDzE"
      },
      "outputs": [
        {
          "data": {
            "text/plain": [
              "TinyVGG(\n",
              "  (conv1): Sequential(\n",
              "    (0): Conv2d(3, 10, kernel_size=(3, 3), stride=(1, 1), padding=(1, 1))\n",
              "    (1): ReLU()\n",
              "    (2): Conv2d(10, 10, kernel_size=(3, 3), stride=(1, 1), padding=(1, 1))\n",
              "    (3): ReLU()\n",
              "    (4): MaxPool2d(kernel_size=2, stride=2, padding=0, dilation=1, ceil_mode=False)\n",
              "  )\n",
              "  (conv2): Sequential(\n",
              "    (0): Conv2d(10, 10, kernel_size=(3, 3), stride=(1, 1), padding=(1, 1))\n",
              "    (1): ReLU()\n",
              "    (2): Conv2d(10, 10, kernel_size=(3, 3), stride=(1, 1), padding=(1, 1))\n",
              "    (3): ReLU()\n",
              "    (4): MaxPool2d(kernel_size=2, stride=2, padding=0, dilation=1, ceil_mode=False)\n",
              "  )\n",
              "  (classifier): Sequential(\n",
              "    (0): Flatten(start_dim=1, end_dim=-1)\n",
              "    (1): Linear(in_features=2560, out_features=3, bias=True)\n",
              "  )\n",
              ")"
            ]
          },
          "execution_count": 129,
          "metadata": {},
          "output_type": "execute_result"
        }
      ],
      "source": [
        "from torch import nn\n",
        "\n",
        "class TinyVGG(nn.Module):\n",
        "    def __init__(self, input_shape:int, hidden_units:int, output_shape:int):\n",
        "        super().__init__()\n",
        "        self.conv1 = nn.Sequential(\n",
        "            nn.Conv2d(in_channels=input_shape, out_channels=hidden_units,kernel_size=3, stride = 1, padding = 1),\n",
        "            nn.ReLU(),\n",
        "            nn.Conv2d(in_channels=hidden_units, out_channels=hidden_units, kernel_size=3, stride = 1, padding= 1),\n",
        "            nn.ReLU(),\n",
        "            nn.MaxPool2d(kernel_size=2)\n",
        "        )\n",
        "        self.conv2 = nn.Sequential(\n",
        "            nn.Conv2d(in_channels=hidden_units, out_channels=hidden_units,kernel_size=3, stride = 1, padding = 1),\n",
        "            nn.ReLU(),\n",
        "            nn.Conv2d(in_channels=hidden_units, out_channels=hidden_units, kernel_size=3, stride = 1, padding= 1),\n",
        "            nn.ReLU(),\n",
        "            nn.MaxPool2d(kernel_size=2)\n",
        "        )\n",
        "        self.classifier = nn.Sequential(\n",
        "            nn.Flatten(),\n",
        "            nn.Linear(\n",
        "                in_features=hidden_units*256, out_features=output_shape\n",
        "            )\n",
        "        )\n",
        "    def forward(self, x):\n",
        "        return self.classifier(self.conv2(self.conv1(x)))\n",
        "    \n",
        "model_0 = TinyVGG(input_shape=3, hidden_units=10,output_shape=len(class_names)).to(device)\n",
        "model_0"
      ]
    },
    {
      "cell_type": "code",
      "execution_count": 130,
      "metadata": {},
      "outputs": [
        {
          "data": {
            "text/plain": [
              "[tensor([[[[0.9882, 0.9882, 0.9882,  ..., 0.2314, 0.2627, 0.2902],\n",
              "           [0.9882, 0.9882, 0.9922,  ..., 0.2275, 0.2980, 0.2431],\n",
              "           [0.9882, 0.9882, 0.9922,  ..., 0.2235, 0.3098, 0.2431],\n",
              "           ...,\n",
              "           [0.1137, 0.1176, 0.1176,  ..., 0.1765, 0.1843, 0.1804],\n",
              "           [0.1294, 0.1412, 0.1255,  ..., 0.1412, 0.1294, 0.1373],\n",
              "           [0.1451, 0.1451, 0.1255,  ..., 0.1216, 0.1255, 0.1216]],\n",
              " \n",
              "          [[0.9490, 0.9569, 0.9529,  ..., 0.1490, 0.1686, 0.1961],\n",
              "           [0.9451, 0.9608, 0.9804,  ..., 0.1529, 0.2078, 0.1882],\n",
              "           [0.9333, 0.9569, 0.9882,  ..., 0.1725, 0.2431, 0.1686],\n",
              "           ...,\n",
              "           [0.0431, 0.0392, 0.0392,  ..., 0.1412, 0.1451, 0.1255],\n",
              "           [0.0431, 0.0471, 0.0431,  ..., 0.1020, 0.0980, 0.1020],\n",
              "           [0.0549, 0.0510, 0.0431,  ..., 0.0627, 0.0706, 0.0745]],\n",
              " \n",
              "          [[0.8039, 0.7882, 0.7843,  ..., 0.2118, 0.2353, 0.2510],\n",
              "           [0.7961, 0.8471, 0.8706,  ..., 0.1765, 0.2196, 0.2196],\n",
              "           [0.7765, 0.8431, 0.9216,  ..., 0.1725, 0.2431, 0.2196],\n",
              "           ...,\n",
              "           [0.0902, 0.0863, 0.0784,  ..., 0.1765, 0.1686, 0.1608],\n",
              "           [0.1020, 0.1098, 0.0902,  ..., 0.1373, 0.1294, 0.1294],\n",
              "           [0.1098, 0.0980, 0.0980,  ..., 0.1176, 0.1294, 0.1373]]],\n",
              " \n",
              " \n",
              "         [[[0.2000, 0.2392, 0.3216,  ..., 0.2157, 0.1804, 0.2157],\n",
              "           [0.2784, 0.2627, 0.3020,  ..., 0.1961, 0.2314, 0.2549],\n",
              "           [0.3804, 0.2353, 0.2235,  ..., 0.2549, 0.2157, 0.1490],\n",
              "           ...,\n",
              "           [0.4039, 0.3922, 0.2588,  ..., 0.0588, 0.0588, 0.0627],\n",
              "           [0.4039, 0.4745, 0.4000,  ..., 0.0588, 0.0510, 0.0549],\n",
              "           [0.4941, 0.4353, 0.3490,  ..., 0.0549, 0.0471, 0.0471]],\n",
              " \n",
              "          [[0.1529, 0.1882, 0.2196,  ..., 0.1765, 0.1608, 0.1961],\n",
              "           [0.2118, 0.2118, 0.2118,  ..., 0.1686, 0.2039, 0.2275],\n",
              "           [0.2549, 0.1569, 0.1451,  ..., 0.2235, 0.1961, 0.1373],\n",
              "           ...,\n",
              "           [0.2353, 0.2588, 0.1647,  ..., 0.0627, 0.0627, 0.0667],\n",
              "           [0.2196, 0.2824, 0.2431,  ..., 0.0627, 0.0588, 0.0588],\n",
              "           [0.3882, 0.2902, 0.2039,  ..., 0.0588, 0.0510, 0.0510]],\n",
              " \n",
              "          [[0.1255, 0.1686, 0.1961,  ..., 0.1686, 0.1608, 0.1843],\n",
              "           [0.1804, 0.2000, 0.1961,  ..., 0.1647, 0.2000, 0.2118],\n",
              "           [0.1608, 0.1255, 0.1216,  ..., 0.2157, 0.1882, 0.1451],\n",
              "           ...,\n",
              "           [0.1059, 0.1176, 0.0784,  ..., 0.0706, 0.0706, 0.0745],\n",
              "           [0.1059, 0.1216, 0.1020,  ..., 0.0667, 0.0627, 0.0667],\n",
              "           [0.2824, 0.1647, 0.0941,  ..., 0.0667, 0.0588, 0.0588]]],\n",
              " \n",
              " \n",
              "         [[[0.7529, 0.8353, 0.8431,  ..., 0.4941, 0.4314, 0.3255],\n",
              "           [0.4980, 0.6392, 0.7294,  ..., 0.5098, 0.5373, 0.3961],\n",
              "           [0.2392, 0.2431, 0.3451,  ..., 0.5725, 0.6275, 0.6431],\n",
              "           ...,\n",
              "           [0.9216, 0.9255, 0.9412,  ..., 0.8275, 0.8784, 0.9686],\n",
              "           [0.9098, 0.9176, 0.9294,  ..., 0.8431, 0.9255, 0.9922],\n",
              "           [0.8627, 0.8980, 0.9059,  ..., 0.8588, 0.9725, 0.9961]],\n",
              " \n",
              "          [[0.6863, 0.7882, 0.7922,  ..., 0.3725, 0.2706, 0.1412],\n",
              "           [0.3725, 0.5333, 0.6275,  ..., 0.3882, 0.4078, 0.2392],\n",
              "           [0.1176, 0.1216, 0.2235,  ..., 0.4784, 0.5333, 0.5333],\n",
              "           ...,\n",
              "           [0.4824, 0.4863, 0.4941,  ..., 0.4392, 0.6039, 0.8941],\n",
              "           [0.4706, 0.4980, 0.5294,  ..., 0.5059, 0.7686, 0.9804],\n",
              "           [0.3647, 0.4392, 0.5059,  ..., 0.6039, 0.9176, 0.9882]],\n",
              " \n",
              "          [[0.7373, 0.8471, 0.8510,  ..., 0.3255, 0.2118, 0.0745],\n",
              "           [0.3608, 0.5412, 0.6431,  ..., 0.3294, 0.3529, 0.1686],\n",
              "           [0.1020, 0.1137, 0.2039,  ..., 0.4235, 0.4863, 0.4667],\n",
              "           ...,\n",
              "           [0.3451, 0.3294, 0.3255,  ..., 0.2863, 0.5137, 0.8706],\n",
              "           [0.3569, 0.3843, 0.4118,  ..., 0.3765, 0.7216, 0.9765],\n",
              "           [0.2314, 0.3216, 0.4039,  ..., 0.5294, 0.9059, 0.9922]]],\n",
              " \n",
              " \n",
              "         ...,\n",
              " \n",
              " \n",
              "         [[[0.3373, 0.2784, 0.3647,  ..., 0.5843, 0.6118, 0.6627],\n",
              "           [0.2039, 0.2667, 0.5294,  ..., 0.5725, 0.6157, 0.6471],\n",
              "           [0.2549, 0.5686, 0.7176,  ..., 0.5137, 0.5412, 0.5882],\n",
              "           ...,\n",
              "           [0.2824, 0.3059, 0.4627,  ..., 0.4549, 0.4510, 0.3843],\n",
              "           [0.4078, 0.3922, 0.4000,  ..., 0.4667, 0.4627, 0.3373],\n",
              "           [0.4784, 0.4549, 0.4000,  ..., 0.3765, 0.4157, 0.2941]],\n",
              " \n",
              "          [[0.3490, 0.2863, 0.3373,  ..., 0.3020, 0.3373, 0.4157],\n",
              "           [0.2039, 0.2510, 0.4706,  ..., 0.2941, 0.3529, 0.4196],\n",
              "           [0.2353, 0.5294, 0.6627,  ..., 0.2392, 0.2745, 0.3529],\n",
              "           ...,\n",
              "           [0.2588, 0.2510, 0.3765,  ..., 0.4196, 0.4314, 0.3608],\n",
              "           [0.3804, 0.3451, 0.3216,  ..., 0.4235, 0.4353, 0.3098],\n",
              "           [0.4588, 0.4157, 0.3529,  ..., 0.3255, 0.3686, 0.2588]],\n",
              " \n",
              "          [[0.3843, 0.3216, 0.3294,  ..., 0.1451, 0.1608, 0.2157],\n",
              "           [0.2118, 0.2275, 0.3765,  ..., 0.1451, 0.1765, 0.2118],\n",
              "           [0.1922, 0.4118, 0.4980,  ..., 0.1176, 0.1333, 0.1765],\n",
              "           ...,\n",
              "           [0.2196, 0.1804, 0.2353,  ..., 0.4314, 0.4235, 0.3333],\n",
              "           [0.3569, 0.3216, 0.2863,  ..., 0.4235, 0.4118, 0.2549],\n",
              "           [0.4706, 0.4196, 0.3490,  ..., 0.2824, 0.3451, 0.1961]]],\n",
              " \n",
              " \n",
              "         [[[0.0157, 0.0078, 0.0039,  ..., 0.0039, 0.0039, 0.0078],\n",
              "           [0.0118, 0.0078, 0.0039,  ..., 0.0039, 0.0039, 0.0039],\n",
              "           [0.0118, 0.0078, 0.0039,  ..., 0.0039, 0.0039, 0.0039],\n",
              "           ...,\n",
              "           [0.5255, 0.4431, 0.3569,  ..., 0.0275, 0.0275, 0.0431],\n",
              "           [0.4902, 0.4000, 0.3373,  ..., 0.0275, 0.0118, 0.0314],\n",
              "           [0.4627, 0.3725, 0.3412,  ..., 0.0275, 0.0118, 0.0157]],\n",
              " \n",
              "          [[0.0078, 0.0078, 0.0039,  ..., 0.0039, 0.0039, 0.0078],\n",
              "           [0.0078, 0.0078, 0.0039,  ..., 0.0039, 0.0039, 0.0039],\n",
              "           [0.0078, 0.0078, 0.0039,  ..., 0.0039, 0.0039, 0.0039],\n",
              "           ...,\n",
              "           [0.5176, 0.4196, 0.3294,  ..., 0.0275, 0.0235, 0.0392],\n",
              "           [0.4824, 0.3765, 0.3098,  ..., 0.0275, 0.0118, 0.0275],\n",
              "           [0.4471, 0.3529, 0.3216,  ..., 0.0275, 0.0078, 0.0157]],\n",
              " \n",
              "          [[0.0157, 0.0157, 0.0118,  ..., 0.0118, 0.0118, 0.0157],\n",
              "           [0.0118, 0.0118, 0.0118,  ..., 0.0118, 0.0118, 0.0118],\n",
              "           [0.0118, 0.0118, 0.0118,  ..., 0.0118, 0.0118, 0.0118],\n",
              "           ...,\n",
              "           [0.5059, 0.3490, 0.2588,  ..., 0.0235, 0.0235, 0.0314],\n",
              "           [0.4627, 0.2941, 0.2314,  ..., 0.0235, 0.0196, 0.0235],\n",
              "           [0.4118, 0.2706, 0.2510,  ..., 0.0235, 0.0157, 0.0157]]],\n",
              " \n",
              " \n",
              "         [[[0.1686, 0.1608, 0.2392,  ..., 0.1412, 0.1490, 0.1490],\n",
              "           [0.1608, 0.1529, 0.2314,  ..., 0.0667, 0.0667, 0.0667],\n",
              "           [0.1843, 0.1804, 0.1765,  ..., 0.0941, 0.0941, 0.0980],\n",
              "           ...,\n",
              "           [0.1137, 0.1059, 0.1020,  ..., 0.2118, 0.1255, 0.0863],\n",
              "           [0.1098, 0.1059, 0.0902,  ..., 0.0941, 0.0667, 0.0627],\n",
              "           [0.1098, 0.1020, 0.0941,  ..., 0.0706, 0.0549, 0.0510]],\n",
              " \n",
              "          [[0.3294, 0.3412, 0.4314,  ..., 0.1922, 0.1843, 0.1843],\n",
              "           [0.2980, 0.3059, 0.4000,  ..., 0.0863, 0.0824, 0.0784],\n",
              "           [0.2941, 0.2824, 0.2745,  ..., 0.0784, 0.0784, 0.0784],\n",
              "           ...,\n",
              "           [0.1059, 0.0980, 0.0941,  ..., 0.1922, 0.1137, 0.0706],\n",
              "           [0.0980, 0.0941, 0.0902,  ..., 0.0745, 0.0588, 0.0549],\n",
              "           [0.0941, 0.0941, 0.0863,  ..., 0.0510, 0.0549, 0.0549]],\n",
              " \n",
              "          [[0.5255, 0.5216, 0.5686,  ..., 0.1490, 0.1373, 0.1373],\n",
              "           [0.4784, 0.4667, 0.5529,  ..., 0.0510, 0.0471, 0.0431],\n",
              "           [0.4353, 0.4353, 0.4235,  ..., 0.0471, 0.0471, 0.0471],\n",
              "           ...,\n",
              "           [0.1294, 0.1412, 0.1373,  ..., 0.1843, 0.1294, 0.0863],\n",
              "           [0.1059, 0.1333, 0.1216,  ..., 0.0863, 0.0706, 0.0588],\n",
              "           [0.1020, 0.1176, 0.1137,  ..., 0.0549, 0.0510, 0.0510]]]]),\n",
              " tensor([2, 0, 2, 0, 2, 0, 0, 2, 0, 1, 2, 1, 1, 0, 2, 2, 1, 2, 1, 0, 2, 1, 1, 0,\n",
              "         2, 1, 1, 0, 2, 2, 2, 1])]"
            ]
          },
          "execution_count": 130,
          "metadata": {},
          "output_type": "execute_result"
        }
      ],
      "source": [
        "next(iter(train_dataloader))"
      ]
    },
    {
      "cell_type": "markdown",
      "metadata": {
        "id": "DKdEEFEqxM-8"
      },
      "source": [
        "## 4. Create training and testing functions for `model_0`."
      ]
    },
    {
      "cell_type": "code",
      "execution_count": 138,
      "metadata": {
        "id": "rnUox1qayDes"
      },
      "outputs": [],
      "source": [
        "def train_step(model: torch.nn.Module,\n",
        "               dataloader: torch.utils.data.DataLoader,\n",
        "               loss_fn: torch.nn.Module,\n",
        "               optimizer: torch.optim.Optimizer):\n",
        "  \n",
        "  # Put the model in train mode\n",
        "  model.train()\n",
        "  model = model.to(device)\n",
        "  # Setup train loss and train accuracy values\n",
        "  train_loss, train_acc = 0, 0\n",
        "\n",
        "  # Loop through data loader and data batches\n",
        "  for batch, (X,y) in enumerate(dataloader):\n",
        "    # Send data to target device\n",
        "    X, y = X.to(device), y.to(device)\n",
        "    # 1. Forward pass\n",
        "    y_pred = model(X)\n",
        "    # 2. Calculate and accumulate loss\n",
        "    loss = loss_fn(y_pred, y)    \n",
        "    train_loss += loss.item()\n",
        "    # 3. Optimizer zero grad \n",
        "    optimizer.zero_grad()    \n",
        "\n",
        "    # 4. Loss backward \n",
        "    loss.backward()\n",
        "\n",
        "    # 5. Optimizer step\n",
        "    optimizer.step()\n",
        "\n",
        "    # Calculate and accumualte accuracy metric across all batches\n",
        "    y_pred_label = y_pred.softmax(dim=1).argmax(dim=1)\n",
        "    train_acc += (y==y_pred_label).sum().item() / len(y_pred)\n",
        "\n",
        "  # Adjust metrics to get average loss and average accuracy per batch\n",
        "  train_loss /= len(dataloader)\n",
        "  train_acc /= len(dataloader)\n",
        "  return train_loss, train_acc"
      ]
    },
    {
      "cell_type": "code",
      "execution_count": 132,
      "metadata": {},
      "outputs": [],
      "source": [
        "train_step(model = model_0, dataloader=train_dataloader, loss_fn=nn.CrossEntropyLoss(),optimizer=torch.optim.SGD(params=model_0.parameters(), lr =0.1))"
      ]
    },
    {
      "cell_type": "code",
      "execution_count": 139,
      "metadata": {
        "id": "O7_EVPpHNKUP"
      },
      "outputs": [],
      "source": [
        "def test_step(model: torch.nn.Module,\n",
        "              dataloader: torch.utils.data.DataLoader,\n",
        "              loss_fn: torch.nn.Module):\n",
        "  \n",
        "  # Put model in eval mode\n",
        "  model.eval()\n",
        "\n",
        "  # Setup the test loss and test accuracy values\n",
        "  test_loss, test_acc = 0, 0\n",
        "\n",
        "  # Turn on inference context manager\n",
        "  with torch.inference_mode():\n",
        "    # Loop through DataLoader batches\n",
        "    for batch,(X,y) in enumerate(dataloader):\n",
        "      # Send data to target device\n",
        "      X, y= X.to(device), y.to(device)\n",
        "\n",
        "      # 1. Forward pass\n",
        "      test_pred = model(X)\n",
        "\n",
        "      # 2. Calculuate and accumulate loss\n",
        "      loss = loss_fn(test_pred, y)\n",
        "      test_loss += loss.item()\n",
        "      # Calculate and accumulate accuracy\n",
        "      test_pred_label = test_pred.softmax(dim=1).argmax(dim=1)\n",
        "      test_acc += (y==test_pred_label).sum().item() / len(test_pred)\n",
        "    \n",
        "  # Adjust metrics to get average loss and accuracy per batch\n",
        "    test_loss /= len(dataloader)\n",
        "    test_acc /= len(dataloader)\n",
        "  return test_loss, test_acc\n"
      ]
    },
    {
      "cell_type": "code",
      "execution_count": 134,
      "metadata": {},
      "outputs": [],
      "source": [
        "test_step(model = model_0, dataloader=train_dataloader, loss_fn=nn.CrossEntropyLoss())"
      ]
    },
    {
      "cell_type": "code",
      "execution_count": 140,
      "metadata": {
        "id": "zXxTIh9tOh68"
      },
      "outputs": [],
      "source": [
        "from tqdm.auto import tqdm\n",
        "\n",
        "def train(model: torch.nn.Module,\n",
        "          train_dataloader: torch.utils.data.DataLoader,\n",
        "          test_dataloader: torch.utils.data.DataLoader,\n",
        "          optimizer: torch.optim.Optimizer,\n",
        "          loss_fn: torch.nn.Module = nn.CrossEntropyLoss(),\n",
        "          epochs: int = 5):\n",
        "  \n",
        "  # Create results dictionary\n",
        "  results = {\"train_loss\": [],\n",
        "             \"train_acc\": [],\n",
        "             \"test_loss\": [],\n",
        "             \"test_acc\": []}\n",
        "\n",
        "  # Loop through the training and testing steps for a number of epochs\n",
        "  for epoch in tqdm(range(epochs)):\n",
        "    # Train step\n",
        "    train_loss, train_acc = train_step(model=model, \n",
        "                                       dataloader=train_dataloader,\n",
        "                                       loss_fn=loss_fn,\n",
        "                                       optimizer=optimizer)\n",
        "    # Test step\n",
        "    test_loss, test_acc = test_step(model=model, \n",
        "                                    dataloader=test_dataloader,\n",
        "                                    loss_fn=loss_fn)\n",
        "    \n",
        "    # Print out what's happening\n",
        "    print(f\"Epoch: {epoch+1} | \"\n",
        "          f\"train_loss: {train_loss:.4f} | \"\n",
        "          f\"train_acc: {train_acc:.4f} | \"\n",
        "          f\"test_loss: {test_loss:.4f} | \"\n",
        "          f\"test_acc: {test_acc:.4f}\"\n",
        "    )\n",
        "\n",
        "    # Update the results dictionary\n",
        "    results[\"train_loss\"].append(train_loss)\n",
        "    results[\"train_acc\"].append(train_acc)\n",
        "    results[\"test_loss\"].append(test_loss)\n",
        "    results[\"test_acc\"].append(test_acc)\n",
        "\n",
        "  # Return the results dictionary\n",
        "  return results"
      ]
    },
    {
      "cell_type": "markdown",
      "metadata": {
        "id": "lvf-3pODxXYI"
      },
      "source": [
        "## 5. Try training the model you made in exercise 3 for 5, 20 and 50 epochs, what happens to the results?\n",
        "* Use `torch.optim.Adam()` with a learning rate of 0.001 as the optimizer. "
      ]
    },
    {
      "cell_type": "code",
      "execution_count": 141,
      "metadata": {
        "id": "rV7s2qtIyDIZ"
      },
      "outputs": [
        {
          "data": {
            "application/vnd.jupyter.widget-view+json": {
              "model_id": "51cdf4f872aa4628adfdc10505b46c32",
              "version_major": 2,
              "version_minor": 0
            },
            "text/plain": [
              "  0%|          | 0/5 [00:00<?, ?it/s]"
            ]
          },
          "metadata": {},
          "output_type": "display_data"
        },
        {
          "name": "stdout",
          "output_type": "stream",
          "text": [
            "Epoch: 1 | train_loss: 1.1041 | train_acc: 0.2812 | test_loss: 1.1027 | test_acc: 0.1979\n",
            "Epoch: 2 | train_loss: 1.0898 | train_acc: 0.4141 | test_loss: 1.1103 | test_acc: 0.2604\n",
            "Epoch: 3 | train_loss: 1.0808 | train_acc: 0.4258 | test_loss: 1.1251 | test_acc: 0.2604\n",
            "Epoch: 4 | train_loss: 1.1052 | train_acc: 0.3047 | test_loss: 1.1293 | test_acc: 0.2708\n",
            "Epoch: 5 | train_loss: 1.0769 | train_acc: 0.3984 | test_loss: 1.1232 | test_acc: 0.2604\n"
          ]
        },
        {
          "data": {
            "text/plain": [
              "{'train_loss': [1.1040869802236557,\n",
              "  1.0897782891988754,\n",
              "  1.0807757303118706,\n",
              "  1.1052499413490295,\n",
              "  1.0768551528453827],\n",
              " 'train_acc': [0.28125, 0.4140625, 0.42578125, 0.3046875, 0.3984375],\n",
              " 'test_loss': [1.1027339696884155,\n",
              "  1.1102938652038574,\n",
              "  1.1250528295834858,\n",
              "  1.1292887727419536,\n",
              "  1.1231820980707805],\n",
              " 'test_acc': [0.19791666666666666,\n",
              "  0.2604166666666667,\n",
              "  0.2604166666666667,\n",
              "  0.2708333333333333,\n",
              "  0.2604166666666667]}"
            ]
          },
          "execution_count": 141,
          "metadata": {},
          "output_type": "execute_result"
        }
      ],
      "source": [
        "# Train for 5 epochs\n",
        "torch.manual_seed(42)\n",
        "torch.cuda.manual_seed(42)\n",
        "\n",
        "loss_fn = nn.CrossEntropyLoss()\n",
        "optimizer = torch.optim.Adam(params=model_0.parameters(), \n",
        "                             lr=0.001)\n",
        "\n",
        "result_5 = train(model = model_0, train_dataloader=train_dataloader, test_dataloader=test_dataloader, loss_fn=loss_fn, optimizer=optimizer,epochs=5)\n",
        "result_5"
      ]
    },
    {
      "cell_type": "code",
      "execution_count": 142,
      "metadata": {
        "id": "UEtZzyF1QGTq"
      },
      "outputs": [
        {
          "data": {
            "application/vnd.jupyter.widget-view+json": {
              "model_id": "ce66d11f82214c93b4ce56ebb9eb93a2",
              "version_major": 2,
              "version_minor": 0
            },
            "text/plain": [
              "  0%|          | 0/20 [00:00<?, ?it/s]"
            ]
          },
          "metadata": {},
          "output_type": "display_data"
        },
        {
          "name": "stdout",
          "output_type": "stream",
          "text": [
            "Epoch: 1 | train_loss: 1.0259 | train_acc: 0.5078 | test_loss: 1.0630 | test_acc: 0.3419\n",
            "Epoch: 2 | train_loss: 0.9580 | train_acc: 0.6367 | test_loss: 1.0585 | test_acc: 0.3011\n",
            "Epoch: 3 | train_loss: 0.8826 | train_acc: 0.6250 | test_loss: 1.0662 | test_acc: 0.3116\n",
            "Epoch: 4 | train_loss: 0.9344 | train_acc: 0.5469 | test_loss: 1.0663 | test_acc: 0.3930\n",
            "Epoch: 5 | train_loss: 0.8064 | train_acc: 0.6953 | test_loss: 1.0577 | test_acc: 0.4744\n",
            "Epoch: 6 | train_loss: 0.9414 | train_acc: 0.5117 | test_loss: 1.0490 | test_acc: 0.3930\n",
            "Epoch: 7 | train_loss: 0.7405 | train_acc: 0.6484 | test_loss: 1.0785 | test_acc: 0.5057\n",
            "Epoch: 8 | train_loss: 0.7660 | train_acc: 0.7109 | test_loss: 1.0717 | test_acc: 0.3731\n",
            "Epoch: 9 | train_loss: 0.9067 | train_acc: 0.5352 | test_loss: 1.0487 | test_acc: 0.4034\n",
            "Epoch: 10 | train_loss: 0.7702 | train_acc: 0.7070 | test_loss: 1.0142 | test_acc: 0.4337\n",
            "Epoch: 11 | train_loss: 0.7904 | train_acc: 0.6211 | test_loss: 1.0493 | test_acc: 0.4044\n",
            "Epoch: 12 | train_loss: 0.7630 | train_acc: 0.6758 | test_loss: 1.0632 | test_acc: 0.4848\n",
            "Epoch: 13 | train_loss: 0.7841 | train_acc: 0.6914 | test_loss: 1.0384 | test_acc: 0.4545\n",
            "Epoch: 14 | train_loss: 0.7462 | train_acc: 0.6445 | test_loss: 1.0803 | test_acc: 0.3731\n",
            "Epoch: 15 | train_loss: 0.9056 | train_acc: 0.5664 | test_loss: 1.0745 | test_acc: 0.4347\n",
            "Epoch: 16 | train_loss: 0.6953 | train_acc: 0.6680 | test_loss: 1.0989 | test_acc: 0.3731\n",
            "Epoch: 17 | train_loss: 0.7368 | train_acc: 0.6719 | test_loss: 1.0801 | test_acc: 0.4347\n",
            "Epoch: 18 | train_loss: 0.6793 | train_acc: 0.7266 | test_loss: 1.0588 | test_acc: 0.4451\n",
            "Epoch: 19 | train_loss: 0.6555 | train_acc: 0.7344 | test_loss: 1.0549 | test_acc: 0.4347\n",
            "Epoch: 20 | train_loss: 0.7253 | train_acc: 0.6328 | test_loss: 1.0649 | test_acc: 0.4347\n"
          ]
        },
        {
          "data": {
            "text/plain": [
              "{'train_loss': [1.0258520692586899,\n",
              "  0.9579950049519539,\n",
              "  0.8826412260532379,\n",
              "  0.9344493523240089,\n",
              "  0.8063975945115089,\n",
              "  0.941401295363903,\n",
              "  0.740451155230403,\n",
              "  0.7659590318799019,\n",
              "  0.9066880792379379,\n",
              "  0.7701746597886086,\n",
              "  0.7903660424053669,\n",
              "  0.7629691585898399,\n",
              "  0.7841482162475586,\n",
              "  0.7462221831083298,\n",
              "  0.9055672734975815,\n",
              "  0.6952874101698399,\n",
              "  0.7368055209517479,\n",
              "  0.6793354041874409,\n",
              "  0.6555156949907541,\n",
              "  0.7252766713500023],\n",
              " 'train_acc': [0.5078125,\n",
              "  0.63671875,\n",
              "  0.625,\n",
              "  0.546875,\n",
              "  0.6953125,\n",
              "  0.51171875,\n",
              "  0.6484375,\n",
              "  0.7109375,\n",
              "  0.53515625,\n",
              "  0.70703125,\n",
              "  0.62109375,\n",
              "  0.67578125,\n",
              "  0.69140625,\n",
              "  0.64453125,\n",
              "  0.56640625,\n",
              "  0.66796875,\n",
              "  0.671875,\n",
              "  0.7265625,\n",
              "  0.734375,\n",
              "  0.6328125],\n",
              " 'test_loss': [1.0629609823226929,\n",
              "  1.0584636926651,\n",
              "  1.066199004650116,\n",
              "  1.0663065711657207,\n",
              "  1.0577119986216228,\n",
              "  1.049038330713908,\n",
              "  1.0785306890805562,\n",
              "  1.0717459519704182,\n",
              "  1.0486735900243123,\n",
              "  1.014200210571289,\n",
              "  1.0492974321047466,\n",
              "  1.0632471243540447,\n",
              "  1.0384283264478047,\n",
              "  1.0802581310272217,\n",
              "  1.0744826992352803,\n",
              "  1.0989182194073994,\n",
              "  1.0801047881444295,\n",
              "  1.058769663174947,\n",
              "  1.0548683404922485,\n",
              "  1.0648524363835652],\n",
              " 'test_acc': [0.3418560606060606,\n",
              "  0.30113636363636365,\n",
              "  0.31155303030303033,\n",
              "  0.39299242424242425,\n",
              "  0.4744318181818182,\n",
              "  0.39299242424242425,\n",
              "  0.5056818181818182,\n",
              "  0.3731060606060606,\n",
              "  0.4034090909090909,\n",
              "  0.43371212121212127,\n",
              "  0.4043560606060606,\n",
              "  0.48484848484848486,\n",
              "  0.4545454545454546,\n",
              "  0.3731060606060606,\n",
              "  0.4346590909090909,\n",
              "  0.3731060606060606,\n",
              "  0.4346590909090909,\n",
              "  0.44507575757575757,\n",
              "  0.4346590909090909,\n",
              "  0.4346590909090909]}"
            ]
          },
          "execution_count": 142,
          "metadata": {},
          "output_type": "execute_result"
        }
      ],
      "source": [
        "# Train for 20 epochs\n",
        "torch.manual_seed(42)\n",
        "torch.cuda.manual_seed(42)\n",
        "\n",
        "loss_fn = nn.CrossEntropyLoss()\n",
        "optimizer = torch.optim.Adam(params=model_0.parameters(), \n",
        "                             lr=0.001)\n",
        "\n",
        "result_20 = train(model = model_0, train_dataloader=train_dataloader, test_dataloader=test_dataloader, loss_fn=loss_fn, optimizer=optimizer,epochs=20)\n",
        "result_20"
      ]
    },
    {
      "cell_type": "code",
      "execution_count": 143,
      "metadata": {
        "id": "Dwvg40qAQGP9"
      },
      "outputs": [
        {
          "data": {
            "application/vnd.jupyter.widget-view+json": {
              "model_id": "77c7367f18504a7b9da80b364ea8480b",
              "version_major": 2,
              "version_minor": 0
            },
            "text/plain": [
              "  0%|          | 0/50 [00:00<?, ?it/s]"
            ]
          },
          "metadata": {},
          "output_type": "display_data"
        },
        {
          "name": "stdout",
          "output_type": "stream",
          "text": [
            "Epoch: 1 | train_loss: 0.6627 | train_acc: 0.7266 | test_loss: 1.0956 | test_acc: 0.4347\n",
            "Epoch: 2 | train_loss: 0.7178 | train_acc: 0.6016 | test_loss: 1.0375 | test_acc: 0.4347\n",
            "Epoch: 3 | train_loss: 0.6409 | train_acc: 0.6992 | test_loss: 1.0181 | test_acc: 0.4867\n",
            "Epoch: 4 | train_loss: 0.7586 | train_acc: 0.6523 | test_loss: 1.0716 | test_acc: 0.4555\n",
            "Epoch: 5 | train_loss: 0.6058 | train_acc: 0.7539 | test_loss: 1.1507 | test_acc: 0.4451\n",
            "Epoch: 6 | train_loss: 0.7844 | train_acc: 0.6016 | test_loss: 1.0916 | test_acc: 0.4650\n",
            "Epoch: 7 | train_loss: 0.5871 | train_acc: 0.7383 | test_loss: 1.1010 | test_acc: 0.4347\n",
            "Epoch: 8 | train_loss: 0.5939 | train_acc: 0.7656 | test_loss: 1.0909 | test_acc: 0.4555\n",
            "Epoch: 9 | train_loss: 0.7977 | train_acc: 0.6328 | test_loss: 1.0722 | test_acc: 0.4659\n",
            "Epoch: 10 | train_loss: 0.5795 | train_acc: 0.7930 | test_loss: 1.0461 | test_acc: 0.4754\n",
            "Epoch: 11 | train_loss: 0.5664 | train_acc: 0.7695 | test_loss: 1.0778 | test_acc: 0.4659\n",
            "Epoch: 12 | train_loss: 0.5355 | train_acc: 0.7852 | test_loss: 1.1175 | test_acc: 0.4451\n",
            "Epoch: 13 | train_loss: 0.5791 | train_acc: 0.7891 | test_loss: 1.1524 | test_acc: 0.4763\n",
            "Epoch: 14 | train_loss: 0.5683 | train_acc: 0.7188 | test_loss: 1.1798 | test_acc: 0.4659\n",
            "Epoch: 15 | train_loss: 0.8080 | train_acc: 0.6914 | test_loss: 1.1870 | test_acc: 0.4763\n",
            "Epoch: 16 | train_loss: 0.6213 | train_acc: 0.7188 | test_loss: 1.2377 | test_acc: 0.3636\n",
            "Epoch: 17 | train_loss: 0.5925 | train_acc: 0.7617 | test_loss: 1.1702 | test_acc: 0.4754\n",
            "Epoch: 18 | train_loss: 0.5270 | train_acc: 0.8125 | test_loss: 1.1419 | test_acc: 0.4962\n",
            "Epoch: 19 | train_loss: 0.5032 | train_acc: 0.8516 | test_loss: 1.2054 | test_acc: 0.4356\n",
            "Epoch: 20 | train_loss: 0.7133 | train_acc: 0.7266 | test_loss: 1.1893 | test_acc: 0.4356\n",
            "Epoch: 21 | train_loss: 0.4996 | train_acc: 0.8047 | test_loss: 1.1551 | test_acc: 0.4044\n",
            "Epoch: 22 | train_loss: 0.5529 | train_acc: 0.7812 | test_loss: 1.1369 | test_acc: 0.4356\n",
            "Epoch: 23 | train_loss: 0.4565 | train_acc: 0.8086 | test_loss: 1.1527 | test_acc: 0.5047\n",
            "Epoch: 24 | train_loss: 0.5375 | train_acc: 0.7070 | test_loss: 1.1738 | test_acc: 0.4148\n",
            "Epoch: 25 | train_loss: 0.4753 | train_acc: 0.8125 | test_loss: 1.1971 | test_acc: 0.4953\n",
            "Epoch: 26 | train_loss: 0.5286 | train_acc: 0.7031 | test_loss: 1.2670 | test_acc: 0.4356\n",
            "Epoch: 27 | train_loss: 0.5055 | train_acc: 0.8008 | test_loss: 1.2194 | test_acc: 0.4564\n",
            "Epoch: 28 | train_loss: 0.4277 | train_acc: 0.8438 | test_loss: 1.1499 | test_acc: 0.4962\n",
            "Epoch: 29 | train_loss: 0.4528 | train_acc: 0.8438 | test_loss: 1.1602 | test_acc: 0.5170\n",
            "Epoch: 30 | train_loss: 0.4177 | train_acc: 0.8594 | test_loss: 1.2200 | test_acc: 0.5170\n",
            "Epoch: 31 | train_loss: 0.3751 | train_acc: 0.8711 | test_loss: 1.3221 | test_acc: 0.4659\n",
            "Epoch: 32 | train_loss: 0.3410 | train_acc: 0.8672 | test_loss: 1.3831 | test_acc: 0.4460\n",
            "Epoch: 33 | train_loss: 0.3401 | train_acc: 0.8828 | test_loss: 1.3794 | test_acc: 0.4867\n",
            "Epoch: 34 | train_loss: 0.3657 | train_acc: 0.8750 | test_loss: 1.4784 | test_acc: 0.4669\n",
            "Epoch: 35 | train_loss: 0.5289 | train_acc: 0.6992 | test_loss: 1.3591 | test_acc: 0.4337\n",
            "Epoch: 36 | train_loss: 0.8425 | train_acc: 0.6367 | test_loss: 1.3456 | test_acc: 0.4953\n",
            "Epoch: 37 | train_loss: 0.5777 | train_acc: 0.8281 | test_loss: 1.1747 | test_acc: 0.4953\n",
            "Epoch: 38 | train_loss: 0.3558 | train_acc: 0.8711 | test_loss: 1.3032 | test_acc: 0.4754\n",
            "Epoch: 39 | train_loss: 0.3294 | train_acc: 0.8867 | test_loss: 1.3570 | test_acc: 0.4555\n",
            "Epoch: 40 | train_loss: 0.3899 | train_acc: 0.8906 | test_loss: 1.3852 | test_acc: 0.4659\n",
            "Epoch: 41 | train_loss: 0.3359 | train_acc: 0.8984 | test_loss: 1.4526 | test_acc: 0.4555\n",
            "Epoch: 42 | train_loss: 0.3895 | train_acc: 0.7773 | test_loss: 1.3932 | test_acc: 0.4754\n",
            "Epoch: 43 | train_loss: 0.2856 | train_acc: 0.8984 | test_loss: 1.3504 | test_acc: 0.4640\n",
            "Epoch: 44 | train_loss: 0.2415 | train_acc: 0.9102 | test_loss: 1.4597 | test_acc: 0.4337\n",
            "Epoch: 45 | train_loss: 0.2590 | train_acc: 0.9375 | test_loss: 1.5554 | test_acc: 0.4138\n",
            "Epoch: 46 | train_loss: 0.2288 | train_acc: 0.9336 | test_loss: 1.5530 | test_acc: 0.4545\n",
            "Epoch: 47 | train_loss: 0.2119 | train_acc: 0.9336 | test_loss: 1.5622 | test_acc: 0.4744\n",
            "Epoch: 48 | train_loss: 0.2196 | train_acc: 0.9414 | test_loss: 1.7522 | test_acc: 0.4867\n",
            "Epoch: 49 | train_loss: 0.1945 | train_acc: 0.9414 | test_loss: 1.8157 | test_acc: 0.4451\n",
            "Epoch: 50 | train_loss: 0.1736 | train_acc: 0.9414 | test_loss: 1.7801 | test_acc: 0.4659\n"
          ]
        },
        {
          "data": {
            "text/plain": [
              "{'train_loss': [0.6627132445573807,\n",
              "  0.7177820056676865,\n",
              "  0.640884118154645,\n",
              "  0.7585872262716293,\n",
              "  0.6057567112147808,\n",
              "  0.7844321802258492,\n",
              "  0.587091111112386,\n",
              "  0.5939212515950203,\n",
              "  0.7976661995053291,\n",
              "  0.5794637762010098,\n",
              "  0.5664285589009523,\n",
              "  0.5354985995218158,\n",
              "  0.5791468247771263,\n",
              "  0.5682553462684155,\n",
              "  0.8079534992575645,\n",
              "  0.6213047578930855,\n",
              "  0.592462670058012,\n",
              "  0.5269791893661022,\n",
              "  0.5032166838645935,\n",
              "  0.7132961973547935,\n",
              "  0.4996207281947136,\n",
              "  0.5528798811137676,\n",
              "  0.4564532078220509,\n",
              "  0.5374502614140511,\n",
              "  0.4752893354743719,\n",
              "  0.5286075882613659,\n",
              "  0.5055174808949232,\n",
              "  0.427737295627594,\n",
              "  0.45281152054667473,\n",
              "  0.4177081547677517,\n",
              "  0.37509308010339737,\n",
              "  0.3410205515101552,\n",
              "  0.3401207961142063,\n",
              "  0.3657315783202648,\n",
              "  0.5288749057799578,\n",
              "  0.8424974344670773,\n",
              "  0.5777203813195229,\n",
              "  0.35577735933475196,\n",
              "  0.32941593788564205,\n",
              "  0.3899175338447094,\n",
              "  0.33594801276922226,\n",
              "  0.3895375020802021,\n",
              "  0.2855844832956791,\n",
              "  0.24149086978286505,\n",
              "  0.2590432781726122,\n",
              "  0.228812787681818,\n",
              "  0.21192891336977482,\n",
              "  0.21957000717520714,\n",
              "  0.1944986926700949,\n",
              "  0.1735764518380165],\n",
              " 'train_acc': [0.7265625,\n",
              "  0.6015625,\n",
              "  0.69921875,\n",
              "  0.65234375,\n",
              "  0.75390625,\n",
              "  0.6015625,\n",
              "  0.73828125,\n",
              "  0.765625,\n",
              "  0.6328125,\n",
              "  0.79296875,\n",
              "  0.76953125,\n",
              "  0.78515625,\n",
              "  0.7890625,\n",
              "  0.71875,\n",
              "  0.69140625,\n",
              "  0.71875,\n",
              "  0.76171875,\n",
              "  0.8125,\n",
              "  0.8515625,\n",
              "  0.7265625,\n",
              "  0.8046875,\n",
              "  0.78125,\n",
              "  0.80859375,\n",
              "  0.70703125,\n",
              "  0.8125,\n",
              "  0.703125,\n",
              "  0.80078125,\n",
              "  0.84375,\n",
              "  0.84375,\n",
              "  0.859375,\n",
              "  0.87109375,\n",
              "  0.8671875,\n",
              "  0.8828125,\n",
              "  0.875,\n",
              "  0.69921875,\n",
              "  0.63671875,\n",
              "  0.828125,\n",
              "  0.87109375,\n",
              "  0.88671875,\n",
              "  0.890625,\n",
              "  0.8984375,\n",
              "  0.77734375,\n",
              "  0.8984375,\n",
              "  0.91015625,\n",
              "  0.9375,\n",
              "  0.93359375,\n",
              "  0.93359375,\n",
              "  0.94140625,\n",
              "  0.94140625,\n",
              "  0.94140625],\n",
              " 'test_loss': [1.0955560406049092,\n",
              "  1.0375296274820964,\n",
              "  1.018125553925832,\n",
              "  1.0715617537498474,\n",
              "  1.1506937146186829,\n",
              "  1.0916309555371602,\n",
              "  1.1010141968727112,\n",
              "  1.0908779501914978,\n",
              "  1.072157661120097,\n",
              "  1.0460565090179443,\n",
              "  1.0777852535247803,\n",
              "  1.1174682180086772,\n",
              "  1.152355929215749,\n",
              "  1.1798120737075806,\n",
              "  1.1870099703470867,\n",
              "  1.2376950184504192,\n",
              "  1.170156717300415,\n",
              "  1.1419428586959839,\n",
              "  1.2054093877474468,\n",
              "  1.1892706155776978,\n",
              "  1.1551342407862346,\n",
              "  1.136900007724762,\n",
              "  1.152735451857249,\n",
              "  1.1737752159436543,\n",
              "  1.1970673402150471,\n",
              "  1.2669594883918762,\n",
              "  1.2193577488263447,\n",
              "  1.1499314705530803,\n",
              "  1.1602071523666382,\n",
              "  1.2200129230817158,\n",
              "  1.3220749298731487,\n",
              "  1.383111794789632,\n",
              "  1.3793615500132244,\n",
              "  1.4783820509910583,\n",
              "  1.3590975999832153,\n",
              "  1.3455992341041565,\n",
              "  1.1747461954752605,\n",
              "  1.3032221396764119,\n",
              "  1.356964111328125,\n",
              "  1.3852201700210571,\n",
              "  1.4525734583536785,\n",
              "  1.3931533495585124,\n",
              "  1.350364883740743,\n",
              "  1.459665020306905,\n",
              "  1.5553522109985352,\n",
              "  1.5530425707499187,\n",
              "  1.5621838967005413,\n",
              "  1.7522132396697998,\n",
              "  1.8156851530075073,\n",
              "  1.7800891399383545],\n",
              " 'test_acc': [0.4346590909090909,\n",
              "  0.4346590909090909,\n",
              "  0.48674242424242425,\n",
              "  0.45549242424242425,\n",
              "  0.44507575757575757,\n",
              "  0.46496212121212127,\n",
              "  0.4346590909090909,\n",
              "  0.45549242424242425,\n",
              "  0.4659090909090909,\n",
              "  0.4753787878787879,\n",
              "  0.4659090909090909,\n",
              "  0.44507575757575757,\n",
              "  0.47632575757575757,\n",
              "  0.4659090909090909,\n",
              "  0.47632575757575757,\n",
              "  0.3636363636363636,\n",
              "  0.4753787878787879,\n",
              "  0.49621212121212127,\n",
              "  0.4356060606060606,\n",
              "  0.4356060606060606,\n",
              "  0.4043560606060606,\n",
              "  0.4356060606060606,\n",
              "  0.5047348484848485,\n",
              "  0.4147727272727273,\n",
              "  0.49526515151515155,\n",
              "  0.4356060606060606,\n",
              "  0.456439393939394,\n",
              "  0.49621212121212127,\n",
              "  0.5170454545454546,\n",
              "  0.5170454545454546,\n",
              "  0.4659090909090909,\n",
              "  0.4460227272727273,\n",
              "  0.48674242424242425,\n",
              "  0.4668560606060606,\n",
              "  0.43371212121212127,\n",
              "  0.49526515151515155,\n",
              "  0.49526515151515155,\n",
              "  0.4753787878787879,\n",
              "  0.45549242424242425,\n",
              "  0.4659090909090909,\n",
              "  0.45549242424242425,\n",
              "  0.4753787878787879,\n",
              "  0.46401515151515155,\n",
              "  0.43371212121212127,\n",
              "  0.41382575757575757,\n",
              "  0.4545454545454546,\n",
              "  0.4744318181818182,\n",
              "  0.48674242424242425,\n",
              "  0.44507575757575757,\n",
              "  0.4659090909090909]}"
            ]
          },
          "execution_count": 143,
          "metadata": {},
          "output_type": "execute_result"
        }
      ],
      "source": [
        "# Train for 50 epochs\n",
        "torch.manual_seed(42)\n",
        "torch.cuda.manual_seed(42)\n",
        "\n",
        "loss_fn = nn.CrossEntropyLoss()\n",
        "optimizer = torch.optim.Adam(params=model_0.parameters(), \n",
        "                             lr=0.001)\n",
        "\n",
        "result_50 = train(model = model_0, train_dataloader=train_dataloader, test_dataloader=test_dataloader, loss_fn=loss_fn, optimizer=optimizer,epochs=50)\n",
        "result_50"
      ]
    },
    {
      "cell_type": "markdown",
      "metadata": {
        "id": "fn8_fDGzQGMn"
      },
      "source": [
        "It looks like our model is starting to overfit towards the end (performing far better on the training data than on the testing data).\n",
        "\n",
        "In order to fix this, we'd have to introduce ways of preventing overfitting."
      ]
    },
    {
      "cell_type": "markdown",
      "metadata": {
        "id": "qxZW-uAbxe_F"
      },
      "source": [
        "## 6. Double the number of hidden units in your model and train it for 20 epochs, what happens to the results?"
      ]
    },
    {
      "cell_type": "code",
      "execution_count": 144,
      "metadata": {
        "id": "HdRM86voyC0x"
      },
      "outputs": [
        {
          "data": {
            "application/vnd.jupyter.widget-view+json": {
              "model_id": "948ffb67d0154522b1093d5f9fa09e78",
              "version_major": 2,
              "version_minor": 0
            },
            "text/plain": [
              "  0%|          | 0/20 [00:00<?, ?it/s]"
            ]
          },
          "metadata": {},
          "output_type": "display_data"
        },
        {
          "name": "stdout",
          "output_type": "stream",
          "text": [
            "Epoch: 1 | train_loss: 1.1073 | train_acc: 0.4180 | test_loss: 1.1074 | test_acc: 0.2604\n",
            "Epoch: 2 | train_loss: 1.1265 | train_acc: 0.3047 | test_loss: 1.1031 | test_acc: 0.2604\n",
            "Epoch: 3 | train_loss: 1.0967 | train_acc: 0.3086 | test_loss: 1.0999 | test_acc: 0.3333\n",
            "Epoch: 4 | train_loss: 1.0957 | train_acc: 0.4609 | test_loss: 1.0926 | test_acc: 0.4517\n",
            "Epoch: 5 | train_loss: 1.0839 | train_acc: 0.5703 | test_loss: 1.0769 | test_acc: 0.3532\n",
            "Epoch: 6 | train_loss: 1.0475 | train_acc: 0.5586 | test_loss: 1.0846 | test_acc: 0.3333\n",
            "Epoch: 7 | train_loss: 0.9925 | train_acc: 0.4570 | test_loss: 0.9623 | test_acc: 0.4953\n",
            "Epoch: 8 | train_loss: 0.9424 | train_acc: 0.4805 | test_loss: 1.0556 | test_acc: 0.3532\n",
            "Epoch: 9 | train_loss: 0.8752 | train_acc: 0.6250 | test_loss: 0.9421 | test_acc: 0.5445\n",
            "Epoch: 10 | train_loss: 0.9851 | train_acc: 0.4766 | test_loss: 0.9582 | test_acc: 0.5142\n",
            "Epoch: 11 | train_loss: 0.8662 | train_acc: 0.6406 | test_loss: 1.1277 | test_acc: 0.3731\n",
            "Epoch: 12 | train_loss: 0.9236 | train_acc: 0.5078 | test_loss: 1.0669 | test_acc: 0.3627\n",
            "Epoch: 13 | train_loss: 0.8243 | train_acc: 0.5859 | test_loss: 0.9397 | test_acc: 0.5653\n",
            "Epoch: 14 | train_loss: 0.9027 | train_acc: 0.5977 | test_loss: 0.9764 | test_acc: 0.4640\n",
            "Epoch: 15 | train_loss: 0.9621 | train_acc: 0.6172 | test_loss: 0.9634 | test_acc: 0.5947\n",
            "Epoch: 16 | train_loss: 0.7438 | train_acc: 0.6562 | test_loss: 0.9536 | test_acc: 0.5142\n",
            "Epoch: 17 | train_loss: 0.7868 | train_acc: 0.7266 | test_loss: 1.0151 | test_acc: 0.4148\n",
            "Epoch: 18 | train_loss: 0.7608 | train_acc: 0.7188 | test_loss: 1.0506 | test_acc: 0.4242\n",
            "Epoch: 19 | train_loss: 0.6800 | train_acc: 0.7031 | test_loss: 1.1054 | test_acc: 0.5142\n",
            "Epoch: 20 | train_loss: 0.6729 | train_acc: 0.7422 | test_loss: 1.0910 | test_acc: 0.4034\n"
          ]
        },
        {
          "data": {
            "text/plain": [
              "{'train_loss': [1.1072807163000107,\n",
              "  1.1265080273151398,\n",
              "  1.0966754853725433,\n",
              "  1.0956740975379944,\n",
              "  1.083947703242302,\n",
              "  1.047542318701744,\n",
              "  0.9924618005752563,\n",
              "  0.9423711448907852,\n",
              "  0.8752270117402077,\n",
              "  0.9851060882210732,\n",
              "  0.8662309274077415,\n",
              "  0.923629030585289,\n",
              "  0.824288621544838,\n",
              "  0.9027497619390488,\n",
              "  0.9621338248252869,\n",
              "  0.7438013944774866,\n",
              "  0.7867720872163773,\n",
              "  0.7607611939311028,\n",
              "  0.6799685675650835,\n",
              "  0.672927075996995],\n",
              " 'train_acc': [0.41796875,\n",
              "  0.3046875,\n",
              "  0.30859375,\n",
              "  0.4609375,\n",
              "  0.5703125,\n",
              "  0.55859375,\n",
              "  0.45703125,\n",
              "  0.48046875,\n",
              "  0.625,\n",
              "  0.4765625,\n",
              "  0.640625,\n",
              "  0.5078125,\n",
              "  0.5859375,\n",
              "  0.59765625,\n",
              "  0.6171875,\n",
              "  0.65625,\n",
              "  0.7265625,\n",
              "  0.71875,\n",
              "  0.703125,\n",
              "  0.7421875],\n",
              " 'test_loss': [1.1073929866154988,\n",
              "  1.1031437714894612,\n",
              "  1.099854310353597,\n",
              "  1.0926109949747722,\n",
              "  1.076893409093221,\n",
              "  1.0845824281374614,\n",
              "  0.9622970223426819,\n",
              "  1.055590808391571,\n",
              "  0.9420550266901652,\n",
              "  0.9582173824310303,\n",
              "  1.1277165015538533,\n",
              "  1.0668881336847942,\n",
              "  0.9396671851476034,\n",
              "  0.9763886332511902,\n",
              "  0.9634332656860352,\n",
              "  0.953554650147756,\n",
              "  1.01506769657135,\n",
              "  1.050574521223704,\n",
              "  1.1054048140843709,\n",
              "  1.0909504691759746],\n",
              " 'test_acc': [0.2604166666666667,\n",
              "  0.2604166666666667,\n",
              "  0.3333333333333333,\n",
              "  0.4517045454545454,\n",
              "  0.35321969696969696,\n",
              "  0.3333333333333333,\n",
              "  0.49526515151515155,\n",
              "  0.35321969696969696,\n",
              "  0.5445075757575758,\n",
              "  0.5142045454545454,\n",
              "  0.3731060606060606,\n",
              "  0.362689393939394,\n",
              "  0.5653409090909091,\n",
              "  0.46401515151515155,\n",
              "  0.5946969696969697,\n",
              "  0.5142045454545454,\n",
              "  0.4147727272727273,\n",
              "  0.42424242424242425,\n",
              "  0.5142045454545454,\n",
              "  0.4034090909090909]}"
            ]
          },
          "execution_count": 144,
          "metadata": {},
          "output_type": "execute_result"
        }
      ],
      "source": [
        "# Double the number of hidden units and train for 20 epochs\n",
        "torch.manual_seed(42)\n",
        "torch.cuda.manual_seed(42)\n",
        "\n",
        "model_1 = TinyVGG(input_shape=3, hidden_units=20, output_shape=len(class_names))\n",
        "\n",
        "loss_fn = nn.CrossEntropyLoss()\n",
        "optimizer = torch.optim.Adam(params=model_1.parameters(), \n",
        "                             lr=0.001)\n",
        "\n",
        "result_20_model_1 = train(model = model_1, train_dataloader=train_dataloader, test_dataloader=test_dataloader, loss_fn=loss_fn, optimizer=optimizer,epochs=20)\n",
        "result_20_model_1"
      ]
    },
    {
      "cell_type": "markdown",
      "metadata": {
        "id": "THYGHbxyTfzM"
      },
      "source": [
        "It looks like the model is still overfitting, even when changing the number of hidden units.\n",
        "\n",
        "To fix this, we'd have to look at ways to prevent overfitting with our model."
      ]
    },
    {
      "cell_type": "markdown",
      "metadata": {
        "id": "JAPDzW0wxhi3"
      },
      "source": [
        "## 7. Double the data you're using with your model from step 6 and train it for 20 epochs, what happens to the results?\n",
        "* **Note:** You can use the [custom data creation notebook](https://github.com/mrdbourke/pytorch-deep-learning/blob/main/extras/04_custom_data_creation.ipynb) to scale up your Food101 dataset.\n",
        "* You can also find the [already formatted double data (20% instead of 10% subset) dataset on GitHub](https://github.com/mrdbourke/pytorch-deep-learning/blob/main/data/pizza_steak_sushi_20_percent.zip), you will need to write download code like in exercise 2 to get it into this notebook."
      ]
    },
    {
      "cell_type": "code",
      "execution_count": 145,
      "metadata": {
        "id": "8tWfa7Y0yCkX"
      },
      "outputs": [
        {
          "name": "stdout",
          "output_type": "stream",
          "text": [
            "Did not find data\\pizza_steak_sushi_20_percent directory, creating one...\n",
            "Downloading pizza, steak, sushi 20% data...\n",
            "Unzipping pizza, steak, sushi 20% data...\n"
          ]
        }
      ],
      "source": [
        "# Download 20% data for Pizza/Steak/Sushi from GitHub\n",
        "import requests\n",
        "import zipfile\n",
        "from pathlib import Path\n",
        "\n",
        "# Setup path to data folder\n",
        "data_path = Path(\"data/\")\n",
        "image_path = data_path / \"pizza_steak_sushi_20_percent\"\n",
        "\n",
        "# If the image folder doesn't exist, download it and prepare it... \n",
        "if image_path.is_dir():\n",
        "    print(f\"{image_path} directory exists.\")\n",
        "else:\n",
        "    print(f\"Did not find {image_path} directory, creating one...\")\n",
        "    image_path.mkdir(parents=True, exist_ok=True)\n",
        "    \n",
        "# Download pizza, steak, sushi data\n",
        "with open(data_path / \"pizza_steak_sushi_20_percent.zip\", \"wb\") as f:\n",
        "    request = requests.get(\"https://github.com/mrdbourke/pytorch-deep-learning/raw/main/data/pizza_steak_sushi_20_percent.zip\")\n",
        "    print(\"Downloading pizza, steak, sushi 20% data...\")\n",
        "    f.write(request.content)\n",
        "\n",
        "# Unzip pizza, steak, sushi data\n",
        "with zipfile.ZipFile(data_path / \"pizza_steak_sushi_20_percent.zip\", \"r\") as zip_ref:\n",
        "    print(\"Unzipping pizza, steak, sushi 20% data...\") \n",
        "    zip_ref.extractall(image_path)"
      ]
    },
    {
      "cell_type": "code",
      "execution_count": 146,
      "metadata": {
        "id": "DrFK2ScnVg4q"
      },
      "outputs": [
        {
          "name": "stdout",
          "output_type": "stream",
          "text": [
            "There are 2 directories and 0 images in 'data\\pizza_steak_sushi_20_percent'.\n",
            "There are 3 directories and 0 images in 'data\\pizza_steak_sushi_20_percent\\test'.\n",
            "There are 0 directories and 46 images in 'data\\pizza_steak_sushi_20_percent\\test\\pizza'.\n",
            "There are 0 directories and 58 images in 'data\\pizza_steak_sushi_20_percent\\test\\steak'.\n",
            "There are 0 directories and 46 images in 'data\\pizza_steak_sushi_20_percent\\test\\sushi'.\n",
            "There are 3 directories and 0 images in 'data\\pizza_steak_sushi_20_percent\\train'.\n",
            "There are 0 directories and 154 images in 'data\\pizza_steak_sushi_20_percent\\train\\pizza'.\n",
            "There are 0 directories and 146 images in 'data\\pizza_steak_sushi_20_percent\\train\\steak'.\n",
            "There are 0 directories and 150 images in 'data\\pizza_steak_sushi_20_percent\\train\\sushi'.\n"
          ]
        }
      ],
      "source": [
        "# See how many images we have\n",
        "walk_through_dir(image_path)"
      ]
    },
    {
      "cell_type": "markdown",
      "metadata": {
        "id": "WhlWd-z-Vk22"
      },
      "source": [
        "Excellent, we now have double the training and testing images... "
      ]
    },
    {
      "cell_type": "code",
      "execution_count": 147,
      "metadata": {
        "id": "hNzXRfO1Tt1Q"
      },
      "outputs": [
        {
          "data": {
            "text/plain": [
              "(WindowsPath('data/pizza_steak_sushi_20_percent/train'),\n",
              " WindowsPath('data/pizza_steak_sushi_20_percent/test'))"
            ]
          },
          "execution_count": 147,
          "metadata": {},
          "output_type": "execute_result"
        }
      ],
      "source": [
        "# Create the train and test paths\n",
        "train_data_20_percent_path = image_path / \"train\"\n",
        "test_data_20_percent_path = image_path / \"test\"\n",
        "\n",
        "train_data_20_percent_path, test_data_20_percent_path"
      ]
    },
    {
      "cell_type": "code",
      "execution_count": 155,
      "metadata": {
        "id": "R1_xU3FQUPkN"
      },
      "outputs": [],
      "source": [
        "# Turn the 20 percent datapaths into Datasets and DataLoaders\n",
        "from torchvision.datasets import ImageFolder\n",
        "from torchvision import transforms\n",
        "from torch.utils.data import DataLoader\n",
        "\n",
        "simple_transform = transforms.Compose([\n",
        "  transforms.Resize((64, 64)),                                     \n",
        "  transforms.ToTensor()\n",
        "])\n",
        "\n",
        "# Create datasets\n",
        "train20_data = ImageFolder(root = train_data_20_percent_path, transform=simple_transform)\n",
        "test20_data = ImageFolder(root=test_data_20_percent_path, transform=simple_transform)\n",
        "# Create dataloaders\n",
        "train20_dataloader = DataLoader(dataset=train20_data, batch_size=32, shuffle=True)\n",
        "test20_dataloader = DataLoader(dataset=test20_data, batch_size = 32, shuffle=False)\n"
      ]
    },
    {
      "cell_type": "code",
      "execution_count": 164,
      "metadata": {
        "id": "BuJ9YpRCVXRm"
      },
      "outputs": [
        {
          "data": {
            "application/vnd.jupyter.widget-view+json": {
              "model_id": "0d6597e4af534261b22e555f75d48106",
              "version_major": 2,
              "version_minor": 0
            },
            "text/plain": [
              "  0%|          | 0/8 [00:00<?, ?it/s]"
            ]
          },
          "metadata": {},
          "output_type": "display_data"
        },
        {
          "name": "stdout",
          "output_type": "stream",
          "text": [
            "Epoch: 1 | train_loss: 1.0906 | train_acc: 0.4000 | test_loss: 1.0474 | test_acc: 0.4324\n",
            "Epoch: 2 | train_loss: 1.0135 | train_acc: 0.5312 | test_loss: 1.0556 | test_acc: 0.4665\n",
            "Epoch: 3 | train_loss: 0.9393 | train_acc: 0.5771 | test_loss: 0.9350 | test_acc: 0.5312\n",
            "Epoch: 4 | train_loss: 0.8999 | train_acc: 0.5687 | test_loss: 0.9251 | test_acc: 0.5665\n",
            "Epoch: 5 | train_loss: 0.8838 | train_acc: 0.5813 | test_loss: 0.8979 | test_acc: 0.6438\n",
            "Epoch: 6 | train_loss: 0.8426 | train_acc: 0.6208 | test_loss: 0.9132 | test_acc: 0.5489\n",
            "Epoch: 7 | train_loss: 0.8280 | train_acc: 0.6292 | test_loss: 0.8609 | test_acc: 0.6040\n",
            "Epoch: 8 | train_loss: 0.8030 | train_acc: 0.6750 | test_loss: 0.8614 | test_acc: 0.6068\n"
          ]
        },
        {
          "data": {
            "text/plain": [
              "{'train_loss': [1.0906418641408284,\n",
              "  1.0134654959042868,\n",
              "  0.9392834186553956,\n",
              "  0.8999165574709574,\n",
              "  0.8838072856267293,\n",
              "  0.8425510843594869,\n",
              "  0.8279648621877035,\n",
              "  0.8030121723810831],\n",
              " 'train_acc': [0.4,\n",
              "  0.53125,\n",
              "  0.5770833333333333,\n",
              "  0.56875,\n",
              "  0.58125,\n",
              "  0.6208333333333333,\n",
              "  0.6291666666666667,\n",
              "  0.675],\n",
              " 'test_loss': [1.0474267601966858,\n",
              "  1.0556410431861878,\n",
              "  0.9350460052490235,\n",
              "  0.925109589099884,\n",
              "  0.8979299068450928,\n",
              "  0.9132395148277282,\n",
              "  0.8609271347522736,\n",
              "  0.8614105463027955],\n",
              " 'test_acc': [0.4323863636363637,\n",
              "  0.46647727272727274,\n",
              "  0.53125,\n",
              "  0.5664772727272728,\n",
              "  0.64375,\n",
              "  0.5488636363636363,\n",
              "  0.6039772727272728,\n",
              "  0.6068181818181818]}"
            ]
          },
          "execution_count": 164,
          "metadata": {},
          "output_type": "execute_result"
        }
      ],
      "source": [
        "# Train a model with increased amount of data\n",
        "torch.manual_seed(42)\n",
        "torch.cuda.manual_seed(42)\n",
        "model_1 = TinyVGG(input_shape=3, hidden_units=50, output_shape=len(class_names))\n",
        "optimizer = torch.optim.Adam(params = model_1.parameters(), lr = 0.001)\n",
        "result_50_model_1 = train(model = model_1, train_dataloader=train20_dataloader, test_dataloader=test20_dataloader, loss_fn=loss_fn, optimizer=optimizer,epochs=8)\n",
        "result_50_model_1"
      ]
    },
    {
      "cell_type": "markdown",
      "metadata": {
        "id": "bCCVfXk5xjYS"
      },
      "source": [
        "## 8. Make a prediction on your own custom image of pizza/steak/sushi (you could even download one from the internet) with your trained model from exercise 7 and share your prediction. \n",
        "* Does the model you trained in exercise 7 get it right? \n",
        "* If not, what do you think you could do to improve it?"
      ]
    },
    {
      "attachments": {},
      "cell_type": "markdown",
      "metadata": {},
      "source": [
        "TinyVGG is really just tiny model..."
      ]
    },
    {
      "cell_type": "code",
      "execution_count": 169,
      "metadata": {
        "id": "Q1X-33t0vT20"
      },
      "outputs": [],
      "source": [
        "import requests\n",
        "\n",
        "def download_image_from_url(url:str, filename):  \n",
        "    request = requests.get('https://cdn.website.dish.co/media/08/93/3128843/FRESH-SUHI-BAUME-LES-DAMES-plateau.jpg')\n",
        "    with open(filename, 'wb') as f:\n",
        "        f.write(request.content)"
      ]
    },
    {
      "cell_type": "code",
      "execution_count": 170,
      "metadata": {},
      "outputs": [],
      "source": [
        "img = download_image_from_url('https://cdn.website.dish.co/media/08/93/3128843/FRESH-SUHI-BAUME-LES-DAMES-plateau.jpg', filename='sushiex.jpg')"
      ]
    },
    {
      "cell_type": "code",
      "execution_count": 194,
      "metadata": {},
      "outputs": [],
      "source": [
        "from PIL import Image\n",
        "def plot_custom_image(model: torch.nn.Module, img_path:Path ,transform: torchvision.transforms, class_names:list[str]):\n",
        "    img = Image.open(img_path)\n",
        "    img = transform(img)\n",
        "\n",
        "    model.eval()\n",
        "    with torch.inference_mode():\n",
        "        pred = model_1(img.unsqueeze(dim=0).to(device))\n",
        "        pred_prob = pred.softmax(dim=1)\n",
        "        pred_label = pred_prob.argmax(dim=1).item()\n",
        "        max_prob = pred_prob.max().item()\n",
        "\n",
        "\n",
        "        plt.imshow(img.permute(1,2,0))\n",
        "        title = f\"pred : {class_names[pred_label]}\\nprob : {max_prob:.2f}\"\n",
        "        plt.axis(False)\n",
        "        plt.title(title)"
      ]
    },
    {
      "cell_type": "code",
      "execution_count": 195,
      "metadata": {},
      "outputs": [
        {
          "data": {
            "image/png": "[encoded data removed]",
            "text/plain": [
              "<Figure size 640x480 with 1 Axes>"
            ]
          },
          "metadata": {},
          "output_type": "display_data"
        }
      ],
      "source": [
        "plot_custom_image(model = model_1, img_path=Path('./sushiex.jpg'), transform=simple_transform,class_names=class_names)"
      ]
    },
    {
      "cell_type": "code",
      "execution_count": null,
      "metadata": {},
      "outputs": [],
      "source": []
    }
  ],
  "metadata": {
    "accelerator": "GPU",
    "colab": {
      "authorship_tag": "ABX9TyO06uacGGDzw0TkyZ8mqgSU",
      "collapsed_sections": [],
      "include_colab_link": true,
      "name": "04_pytorch_custom_datasets_exercises.ipynb",
      "provenance": []
    },
    "kernelspec": {
      "display_name": "Python 3",
      "name": "python3"
    },
    "language_info": {
      "codemirror_mode": {
        "name": "ipython",
        "version": 3
      },
      "file_extension": ".py",
      "mimetype": "text/x-python",
      "name": "python",
      "nbconvert_exporter": "python",
      "pygments_lexer": "ipython3",
      "version": "3.9.13"
    }
  },
  "nbformat": 4,
  "nbformat_minor": 0
}
