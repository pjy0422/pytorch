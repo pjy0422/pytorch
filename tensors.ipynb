{
 "cells": [
  {
   "cell_type": "code",
   "execution_count": 1,
   "metadata": {},
   "outputs": [
    {
     "name": "stdout",
     "output_type": "stream",
     "text": [
      "1.13.1\n"
     ]
    }
   ],
   "source": [
    "import torch\n",
    "import pandas as pd\n",
    "import numpy as np\n",
    "import matplotlib.pyplot as plt\n",
    "print(torch.__version__)"
   ]
  },
  {
   "cell_type": "code",
   "execution_count": 2,
   "metadata": {},
   "outputs": [
    {
     "data": {
      "text/plain": [
       "tensor(7)"
      ]
     },
     "execution_count": 2,
     "metadata": {},
     "output_type": "execute_result"
    }
   ],
   "source": [
    "#scalars\n",
    "scalar = torch.tensor(7)\n",
    "scalar"
   ]
  },
  {
   "cell_type": "code",
   "execution_count": 3,
   "metadata": {},
   "outputs": [
    {
     "data": {
      "text/plain": [
       "0"
      ]
     },
     "execution_count": 3,
     "metadata": {},
     "output_type": "execute_result"
    }
   ],
   "source": [
    "scalar.ndim"
   ]
  },
  {
   "cell_type": "code",
   "execution_count": 4,
   "metadata": {},
   "outputs": [
    {
     "data": {
      "text/plain": [
       "7"
      ]
     },
     "execution_count": 4,
     "metadata": {},
     "output_type": "execute_result"
    }
   ],
   "source": [
    "# get tensor back as python int\n",
    "scalar.item()"
   ]
  },
  {
   "cell_type": "code",
   "execution_count": 5,
   "metadata": {},
   "outputs": [
    {
     "data": {
      "text/plain": [
       "1"
      ]
     },
     "execution_count": 5,
     "metadata": {},
     "output_type": "execute_result"
    }
   ],
   "source": [
    "#vector: 대괄호 개수가 차원 개수\n",
    "vector = torch.tensor([8,9,10])\n",
    "vector.ndim"
   ]
  },
  {
   "cell_type": "code",
   "execution_count": 6,
   "metadata": {},
   "outputs": [
    {
     "data": {
      "text/plain": [
       "torch.Size([3])"
      ]
     },
     "execution_count": 6,
     "metadata": {},
     "output_type": "execute_result"
    }
   ],
   "source": [
    "vector.shape"
   ]
  },
  {
   "cell_type": "code",
   "execution_count": 7,
   "metadata": {},
   "outputs": [],
   "source": [
    "#MATRIX\n",
    "MATRIX = torch.tensor([[7,8],\n",
    "                       [9,10],\n",
    "                       [11,12]])"
   ]
  },
  {
   "cell_type": "code",
   "execution_count": 8,
   "metadata": {},
   "outputs": [
    {
     "data": {
      "text/plain": [
       "torch.Size([3, 2])"
      ]
     },
     "execution_count": 8,
     "metadata": {},
     "output_type": "execute_result"
    }
   ],
   "source": [
    "MATRIX.shape"
   ]
  },
  {
   "cell_type": "code",
   "execution_count": 9,
   "metadata": {},
   "outputs": [],
   "source": [
    "# tensor\n",
    "\n",
    "TENSOR = torch.tensor([[[1,2,3],\n",
    "                       [4,5,6],\n",
    "                       [7,8,9]],\n",
    "                       [[4,5,6],\n",
    "                       [7,8,9],\n",
    "                       [1,22,3]]])\n"
   ]
  },
  {
   "cell_type": "code",
   "execution_count": 10,
   "metadata": {},
   "outputs": [
    {
     "data": {
      "text/plain": [
       "3"
      ]
     },
     "execution_count": 10,
     "metadata": {},
     "output_type": "execute_result"
    }
   ],
   "source": [
    "TENSOR.ndim"
   ]
  },
  {
   "cell_type": "code",
   "execution_count": 11,
   "metadata": {},
   "outputs": [
    {
     "data": {
      "text/plain": [
       "torch.Size([2, 3, 3])"
      ]
     },
     "execution_count": 11,
     "metadata": {},
     "output_type": "execute_result"
    }
   ],
   "source": [
    "TENSOR.shape"
   ]
  },
  {
   "cell_type": "code",
   "execution_count": 12,
   "metadata": {},
   "outputs": [
    {
     "data": {
      "text/plain": [
       "6"
      ]
     },
     "execution_count": 12,
     "metadata": {},
     "output_type": "execute_result"
    }
   ],
   "source": [
    "TENSOR[1][0][2].item()"
   ]
  },
  {
   "cell_type": "code",
   "execution_count": 13,
   "metadata": {},
   "outputs": [
    {
     "data": {
      "text/plain": [
       "tensor([[[[0.9961, 0.8356, 0.3218, 0.2291],\n",
       "          [0.3732, 0.7130, 0.1132, 0.5359],\n",
       "          [0.6660, 0.7329, 0.4786, 0.5805]],\n",
       "\n",
       "         [[0.6189, 0.8331, 0.2408, 0.3633],\n",
       "          [0.6850, 0.8822, 0.3953, 0.4687],\n",
       "          [0.5746, 0.4232, 0.2478, 0.7615]],\n",
       "\n",
       "         [[0.7981, 0.1245, 0.6255, 0.1522],\n",
       "          [0.3559, 0.6223, 0.1227, 0.7234],\n",
       "          [0.0389, 0.1284, 0.9186, 0.9904]],\n",
       "\n",
       "         ...,\n",
       "\n",
       "         [[0.1602, 0.4352, 0.5044, 0.5951],\n",
       "          [0.1220, 0.9234, 0.1263, 0.5832],\n",
       "          [0.5284, 0.6001, 0.8946, 0.5916]],\n",
       "\n",
       "         [[0.1791, 0.0927, 0.6122, 0.0830],\n",
       "          [0.7342, 0.8895, 0.1839, 0.2689],\n",
       "          [0.7205, 0.8946, 0.9026, 0.9996]],\n",
       "\n",
       "         [[0.8523, 0.8623, 0.0338, 0.9659],\n",
       "          [0.9446, 0.9062, 0.8536, 0.5751],\n",
       "          [0.6778, 0.2882, 0.5425, 0.6314]]],\n",
       "\n",
       "\n",
       "        [[[0.2262, 0.2022, 0.8351, 0.3567],\n",
       "          [0.5932, 0.7696, 0.3145, 0.3273],\n",
       "          [0.7611, 0.3032, 0.0316, 0.3333]],\n",
       "\n",
       "         [[0.7122, 0.3597, 0.4897, 0.4330],\n",
       "          [0.1944, 0.5948, 0.1539, 0.4336],\n",
       "          [0.5948, 0.6023, 0.4389, 0.0776]],\n",
       "\n",
       "         [[0.2362, 0.1710, 0.1868, 0.6208],\n",
       "          [0.3571, 0.8850, 0.3620, 0.4698],\n",
       "          [0.5824, 0.3581, 0.2711, 0.7242]],\n",
       "\n",
       "         ...,\n",
       "\n",
       "         [[0.2798, 0.6849, 0.1084, 0.1066],\n",
       "          [0.1488, 0.9998, 0.5121, 0.4087],\n",
       "          [0.5347, 0.3035, 0.6569, 0.4342]],\n",
       "\n",
       "         [[0.5910, 0.4312, 0.3087, 0.4219],\n",
       "          [0.8123, 0.9479, 0.5972, 0.6256],\n",
       "          [0.5912, 0.7097, 0.8126, 0.8995]],\n",
       "\n",
       "         [[0.3214, 0.7209, 0.8155, 0.5152],\n",
       "          [0.3558, 0.7398, 0.0671, 0.9615],\n",
       "          [0.1616, 0.8958, 0.2495, 0.3924]]],\n",
       "\n",
       "\n",
       "        [[[0.3578, 0.3964, 0.9211, 0.4649],\n",
       "          [0.0859, 0.2454, 0.2906, 0.6508],\n",
       "          [0.0235, 0.9741, 0.1465, 0.4542]],\n",
       "\n",
       "         [[0.9250, 0.2927, 0.4430, 0.6212],\n",
       "          [0.1227, 0.6168, 0.1121, 0.7790],\n",
       "          [0.4719, 0.9065, 0.6644, 0.2656]],\n",
       "\n",
       "         [[0.6022, 0.6555, 0.8835, 0.8169],\n",
       "          [0.3915, 0.5090, 0.4346, 0.7881],\n",
       "          [0.9247, 0.0062, 0.6054, 0.1910]],\n",
       "\n",
       "         ...,\n",
       "\n",
       "         [[0.5163, 0.5573, 0.0068, 0.9731],\n",
       "          [0.2141, 0.2783, 0.6841, 0.0959],\n",
       "          [0.5713, 0.3650, 0.0738, 0.3619]],\n",
       "\n",
       "         [[0.9520, 0.2612, 0.9440, 0.4205],\n",
       "          [0.4359, 0.7443, 0.5390, 0.2053],\n",
       "          [0.3171, 0.0043, 0.6023, 0.7824]],\n",
       "\n",
       "         [[0.0416, 0.9933, 0.4608, 0.8662],\n",
       "          [0.8020, 0.9784, 0.2643, 0.4990],\n",
       "          [0.2877, 0.8548, 0.6050, 0.1066]]],\n",
       "\n",
       "\n",
       "        ...,\n",
       "\n",
       "\n",
       "        [[[0.9054, 0.9009, 0.1882, 0.1414],\n",
       "          [0.6748, 0.8033, 0.1495, 0.3366],\n",
       "          [0.4889, 0.2376, 0.3369, 0.7963]],\n",
       "\n",
       "         [[0.6527, 0.9936, 0.1431, 0.6617],\n",
       "          [0.2373, 0.2741, 0.3193, 0.2626],\n",
       "          [0.9199, 0.7462, 0.3464, 0.6645]],\n",
       "\n",
       "         [[0.2814, 0.3339, 0.0235, 0.0471],\n",
       "          [0.7452, 0.7895, 0.6915, 0.2419],\n",
       "          [0.3610, 0.8364, 0.7972, 0.1212]],\n",
       "\n",
       "         ...,\n",
       "\n",
       "         [[0.3154, 0.6358, 0.8604, 0.1203],\n",
       "          [0.5909, 0.8862, 0.8101, 0.8444],\n",
       "          [0.2817, 0.0748, 0.6394, 0.5137]],\n",
       "\n",
       "         [[0.1788, 0.7873, 0.5974, 0.9785],\n",
       "          [0.8153, 0.9846, 0.0983, 0.2208],\n",
       "          [0.4339, 0.2104, 0.2740, 0.1723]],\n",
       "\n",
       "         [[0.4387, 0.1811, 0.9616, 0.2388],\n",
       "          [0.4836, 0.4605, 0.1320, 0.8865],\n",
       "          [0.6645, 0.9559, 0.3639, 0.9025]]],\n",
       "\n",
       "\n",
       "        [[[0.1175, 0.7286, 0.3865, 0.6184],\n",
       "          [0.8137, 0.0414, 0.9131, 0.9135],\n",
       "          [0.8212, 0.7985, 0.6038, 0.7270]],\n",
       "\n",
       "         [[0.6767, 0.1379, 0.8374, 0.6377],\n",
       "          [0.0622, 0.6434, 0.3047, 0.5752],\n",
       "          [0.5136, 0.7052, 0.5136, 0.8024]],\n",
       "\n",
       "         [[0.9995, 0.3547, 0.8447, 0.0499],\n",
       "          [0.1971, 0.3442, 0.9191, 0.4247],\n",
       "          [0.2350, 0.3906, 0.5197, 0.9956]],\n",
       "\n",
       "         ...,\n",
       "\n",
       "         [[0.4187, 0.4633, 0.9283, 0.3452],\n",
       "          [0.3844, 0.4923, 0.6477, 0.0942],\n",
       "          [0.3889, 0.2858, 0.2996, 0.6629]],\n",
       "\n",
       "         [[0.1662, 0.8488, 0.1080, 0.0932],\n",
       "          [0.3795, 0.2867, 0.1965, 0.0038],\n",
       "          [0.4513, 0.9212, 0.4869, 0.2822]],\n",
       "\n",
       "         [[0.8951, 0.0259, 0.9131, 0.8652],\n",
       "          [0.1466, 0.4477, 0.7480, 0.0928],\n",
       "          [0.7168, 0.9513, 0.8882, 0.6482]]],\n",
       "\n",
       "\n",
       "        [[[0.2578, 0.9276, 0.1695, 0.4145],\n",
       "          [0.6271, 0.7619, 0.2976, 0.6356],\n",
       "          [0.9377, 0.4490, 0.2660, 0.9917]],\n",
       "\n",
       "         [[0.3702, 0.8549, 0.0111, 0.6536],\n",
       "          [0.7256, 0.2576, 0.2667, 0.4907],\n",
       "          [0.7386, 0.0147, 0.4410, 0.2375]],\n",
       "\n",
       "         [[0.6335, 0.3689, 0.9647, 0.1607],\n",
       "          [0.2711, 0.8212, 0.8668, 0.8724],\n",
       "          [0.2274, 0.5881, 0.2008, 0.9043]],\n",
       "\n",
       "         ...,\n",
       "\n",
       "         [[0.9128, 0.4848, 0.9723, 0.6134],\n",
       "          [0.4496, 0.3471, 0.6378, 0.2352],\n",
       "          [0.5000, 0.7517, 0.2452, 0.0254]],\n",
       "\n",
       "         [[0.7846, 0.3689, 0.0523, 0.3476],\n",
       "          [0.4181, 0.0870, 0.0887, 0.6051],\n",
       "          [0.6328, 0.1666, 0.9173, 0.9829]],\n",
       "\n",
       "         [[0.3196, 0.1864, 0.6877, 0.4326],\n",
       "          [0.1801, 0.9750, 0.3927, 0.9739],\n",
       "          [0.6277, 0.3543, 0.8787, 0.5180]]]])"
      ]
     },
     "execution_count": 13,
     "metadata": {},
     "output_type": "execute_result"
    }
   ],
   "source": [
    "### random tensors\n",
    "\n",
    "# why random tensors?\n",
    "\n",
    "# random tensors are important because the way many neural networks learn is\n",
    "# they start with tensors full of random numbers and then adjust those random numbers\n",
    "# to better represent the data.\n",
    "\n",
    "# start with random num-> look at data -> update random numbers->...\n",
    "\n",
    "\n",
    "random_tensor = torch.rand(10,10,3,4)\n",
    "\n",
    "random_tensor"
   ]
  },
  {
   "cell_type": "code",
   "execution_count": 14,
   "metadata": {},
   "outputs": [
    {
     "data": {
      "text/plain": [
       "4"
      ]
     },
     "execution_count": 14,
     "metadata": {},
     "output_type": "execute_result"
    }
   ],
   "source": [
    "random_tensor.ndim"
   ]
  },
  {
   "cell_type": "code",
   "execution_count": 15,
   "metadata": {},
   "outputs": [],
   "source": [
    "random_image_size_tensor = torch.rand(size=(3,5,3))"
   ]
  },
  {
   "cell_type": "code",
   "execution_count": 16,
   "metadata": {},
   "outputs": [
    {
     "data": {
      "text/plain": [
       "(torch.Size([3, 5, 3]), 3)"
      ]
     },
     "execution_count": 16,
     "metadata": {},
     "output_type": "execute_result"
    }
   ],
   "source": [
    "random_image_size_tensor.shape, random_image_size_tensor.ndim"
   ]
  },
  {
   "cell_type": "code",
   "execution_count": 17,
   "metadata": {},
   "outputs": [
    {
     "data": {
      "image/png": "[encoded data removed]",
      "text/plain": [
       "<Figure size 640x480 with 1 Axes>"
      ]
     },
     "metadata": {},
     "output_type": "display_data"
    }
   ],
   "source": [
    "plt.imshow(random_image_size_tensor)\n",
    "plt.show()"
   ]
  },
  {
   "cell_type": "code",
   "execution_count": 18,
   "metadata": {},
   "outputs": [],
   "source": [
    "# zeros and ones\n",
    "\n",
    "zero = torch.zeros(size=(3,4))"
   ]
  },
  {
   "cell_type": "code",
   "execution_count": 19,
   "metadata": {},
   "outputs": [
    {
     "data": {
      "text/plain": [
       "tensor([[[[0., 0., 0., 0.],\n",
       "          [0., 0., 0., 0.],\n",
       "          [0., 0., 0., 0.]],\n",
       "\n",
       "         [[0., 0., 0., 0.],\n",
       "          [0., 0., 0., 0.],\n",
       "          [0., 0., 0., 0.]],\n",
       "\n",
       "         [[0., 0., 0., 0.],\n",
       "          [0., 0., 0., 0.],\n",
       "          [0., 0., 0., 0.]],\n",
       "\n",
       "         ...,\n",
       "\n",
       "         [[0., 0., 0., 0.],\n",
       "          [0., 0., 0., 0.],\n",
       "          [0., 0., 0., 0.]],\n",
       "\n",
       "         [[0., 0., 0., 0.],\n",
       "          [0., 0., 0., 0.],\n",
       "          [0., 0., 0., 0.]],\n",
       "\n",
       "         [[0., 0., 0., 0.],\n",
       "          [0., 0., 0., 0.],\n",
       "          [0., 0., 0., 0.]]],\n",
       "\n",
       "\n",
       "        [[[0., 0., 0., 0.],\n",
       "          [0., 0., 0., 0.],\n",
       "          [0., 0., 0., 0.]],\n",
       "\n",
       "         [[0., 0., 0., 0.],\n",
       "          [0., 0., 0., 0.],\n",
       "          [0., 0., 0., 0.]],\n",
       "\n",
       "         [[0., 0., 0., 0.],\n",
       "          [0., 0., 0., 0.],\n",
       "          [0., 0., 0., 0.]],\n",
       "\n",
       "         ...,\n",
       "\n",
       "         [[0., 0., 0., 0.],\n",
       "          [0., 0., 0., 0.],\n",
       "          [0., 0., 0., 0.]],\n",
       "\n",
       "         [[0., 0., 0., 0.],\n",
       "          [0., 0., 0., 0.],\n",
       "          [0., 0., 0., 0.]],\n",
       "\n",
       "         [[0., 0., 0., 0.],\n",
       "          [0., 0., 0., 0.],\n",
       "          [0., 0., 0., 0.]]],\n",
       "\n",
       "\n",
       "        [[[0., 0., 0., 0.],\n",
       "          [0., 0., 0., 0.],\n",
       "          [0., 0., 0., 0.]],\n",
       "\n",
       "         [[0., 0., 0., 0.],\n",
       "          [0., 0., 0., 0.],\n",
       "          [0., 0., 0., 0.]],\n",
       "\n",
       "         [[0., 0., 0., 0.],\n",
       "          [0., 0., 0., 0.],\n",
       "          [0., 0., 0., 0.]],\n",
       "\n",
       "         ...,\n",
       "\n",
       "         [[0., 0., 0., 0.],\n",
       "          [0., 0., 0., 0.],\n",
       "          [0., 0., 0., 0.]],\n",
       "\n",
       "         [[0., 0., 0., 0.],\n",
       "          [0., 0., 0., 0.],\n",
       "          [0., 0., 0., 0.]],\n",
       "\n",
       "         [[0., 0., 0., 0.],\n",
       "          [0., 0., 0., 0.],\n",
       "          [0., 0., 0., 0.]]],\n",
       "\n",
       "\n",
       "        ...,\n",
       "\n",
       "\n",
       "        [[[0., 0., 0., 0.],\n",
       "          [0., 0., 0., 0.],\n",
       "          [0., 0., 0., 0.]],\n",
       "\n",
       "         [[0., 0., 0., 0.],\n",
       "          [0., 0., 0., 0.],\n",
       "          [0., 0., 0., 0.]],\n",
       "\n",
       "         [[0., 0., 0., 0.],\n",
       "          [0., 0., 0., 0.],\n",
       "          [0., 0., 0., 0.]],\n",
       "\n",
       "         ...,\n",
       "\n",
       "         [[0., 0., 0., 0.],\n",
       "          [0., 0., 0., 0.],\n",
       "          [0., 0., 0., 0.]],\n",
       "\n",
       "         [[0., 0., 0., 0.],\n",
       "          [0., 0., 0., 0.],\n",
       "          [0., 0., 0., 0.]],\n",
       "\n",
       "         [[0., 0., 0., 0.],\n",
       "          [0., 0., 0., 0.],\n",
       "          [0., 0., 0., 0.]]],\n",
       "\n",
       "\n",
       "        [[[0., 0., 0., 0.],\n",
       "          [0., 0., 0., 0.],\n",
       "          [0., 0., 0., 0.]],\n",
       "\n",
       "         [[0., 0., 0., 0.],\n",
       "          [0., 0., 0., 0.],\n",
       "          [0., 0., 0., 0.]],\n",
       "\n",
       "         [[0., 0., 0., 0.],\n",
       "          [0., 0., 0., 0.],\n",
       "          [0., 0., 0., 0.]],\n",
       "\n",
       "         ...,\n",
       "\n",
       "         [[0., 0., 0., 0.],\n",
       "          [0., 0., 0., 0.],\n",
       "          [0., 0., 0., 0.]],\n",
       "\n",
       "         [[0., 0., 0., 0.],\n",
       "          [0., 0., 0., 0.],\n",
       "          [0., 0., 0., 0.]],\n",
       "\n",
       "         [[0., 0., 0., 0.],\n",
       "          [0., 0., 0., 0.],\n",
       "          [0., 0., 0., 0.]]],\n",
       "\n",
       "\n",
       "        [[[0., 0., 0., 0.],\n",
       "          [0., 0., 0., 0.],\n",
       "          [0., 0., 0., 0.]],\n",
       "\n",
       "         [[0., 0., 0., 0.],\n",
       "          [0., 0., 0., 0.],\n",
       "          [0., 0., 0., 0.]],\n",
       "\n",
       "         [[0., 0., 0., 0.],\n",
       "          [0., 0., 0., 0.],\n",
       "          [0., 0., 0., 0.]],\n",
       "\n",
       "         ...,\n",
       "\n",
       "         [[0., 0., 0., 0.],\n",
       "          [0., 0., 0., 0.],\n",
       "          [0., 0., 0., 0.]],\n",
       "\n",
       "         [[0., 0., 0., 0.],\n",
       "          [0., 0., 0., 0.],\n",
       "          [0., 0., 0., 0.]],\n",
       "\n",
       "         [[0., 0., 0., 0.],\n",
       "          [0., 0., 0., 0.],\n",
       "          [0., 0., 0., 0.]]]])"
      ]
     },
     "execution_count": 19,
     "metadata": {},
     "output_type": "execute_result"
    }
   ],
   "source": [
    "zero*random_tensor"
   ]
  },
  {
   "cell_type": "code",
   "execution_count": 20,
   "metadata": {},
   "outputs": [],
   "source": [
    "ones = torch.ones(3,4)"
   ]
  },
  {
   "cell_type": "code",
   "execution_count": 21,
   "metadata": {},
   "outputs": [
    {
     "data": {
      "text/plain": [
       "torch.float32"
      ]
     },
     "execution_count": 21,
     "metadata": {},
     "output_type": "execute_result"
    }
   ],
   "source": [
    "random_tensor.dtype"
   ]
  },
  {
   "cell_type": "code",
   "execution_count": 22,
   "metadata": {},
   "outputs": [
    {
     "data": {
      "text/plain": [
       "torch.Size([10, 10, 3, 4])"
      ]
     },
     "execution_count": 22,
     "metadata": {},
     "output_type": "execute_result"
    }
   ],
   "source": [
    "(ones* random_tensor).shape"
   ]
  },
  {
   "cell_type": "code",
   "execution_count": 23,
   "metadata": {},
   "outputs": [
    {
     "data": {
      "text/plain": [
       "tensor([1, 2, 3, 4, 5, 6, 7, 8, 9])"
      ]
     },
     "execution_count": 23,
     "metadata": {},
     "output_type": "execute_result"
    }
   ],
   "source": [
    "one_to_ten = torch.arange(start = 1,end = 10,step=1)\n",
    "one_to_ten"
   ]
  },
  {
   "cell_type": "code",
   "execution_count": 24,
   "metadata": {},
   "outputs": [
    {
     "data": {
      "text/plain": [
       "tensor([0, 0, 0, 0, 0, 0, 0, 0, 0])"
      ]
     },
     "execution_count": 24,
     "metadata": {},
     "output_type": "execute_result"
    }
   ],
   "source": [
    "ten_zeros = torch.zeros_like(input = one_to_ten)\n",
    "ten_zeros"
   ]
  },
  {
   "cell_type": "code",
   "execution_count": 28,
   "metadata": {},
   "outputs": [
    {
     "data": {
      "text/plain": [
       "tensor([3., 6., 9.], device='cuda:0', dtype=torch.float16)"
      ]
     },
     "execution_count": 28,
     "metadata": {},
     "output_type": "execute_result"
    }
   ],
   "source": [
    "float_32_tensor = torch.tensor([3.0,6.0,9.0],dtype=torch.float16,device=\"cuda\",requires_grad=False)\n",
    "float_32_tensor"
   ]
  },
  {
   "attachments": {},
   "cell_type": "markdown",
   "metadata": {},
   "source": [
    "Note: Tensor datatypes is one of the 3 big errors run into with pytorch and deep learning\n",
    "1. Tensors not right datatype\n",
    "2. Tensors not righ shape\n",
    "3. Tensors not on the right device"
   ]
  },
  {
   "cell_type": "code",
   "execution_count": 29,
   "metadata": {},
   "outputs": [
    {
     "data": {
      "text/plain": [
       "torch.float16"
      ]
     },
     "execution_count": 29,
     "metadata": {},
     "output_type": "execute_result"
    }
   ],
   "source": [
    "float_32_tensor.dtype"
   ]
  },
  {
   "cell_type": "code",
   "execution_count": null,
   "metadata": {},
   "outputs": [],
   "source": []
  }
 ],
 "metadata": {
  "kernelspec": {
   "display_name": "base",
   "language": "python",
   "name": "python3"
  },
  "language_info": {
   "codemirror_mode": {
    "name": "ipython",
    "version": 3
   },
   "file_extension": ".py",
   "mimetype": "text/x-python",
   "name": "python",
   "nbconvert_exporter": "python",
   "pygments_lexer": "ipython3",
   "version": "3.9.13"
  },
  "vscode": {
   "interpreter": {
    "hash": "558f9b560537d291f9c5dfcb503811cc821021b2425bccd871868cbe6e7fde51"
   }
  }
 },
 "nbformat": 4,
 "nbformat_minor": 4
}
